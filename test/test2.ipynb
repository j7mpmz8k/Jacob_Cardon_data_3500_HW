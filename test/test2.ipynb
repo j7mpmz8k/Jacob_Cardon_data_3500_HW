{
 "cells": [
  {
   "cell_type": "code",
   "execution_count": 5,
   "id": "31415325",
   "metadata": {},
   "outputs": [
    {
     "name": "stdout",
     "output_type": "stream",
     "text": [
      "25\n"
     ]
    }
   ],
   "source": [
    "most_profitable = {\n",
    "'MeanReversionStrategey':{'ticker':None,'total_profit':0},\n",
    "'BollingerBandsStrategy':{'ticker':None,'total_profit':0},\n",
    "'MacdStrategey':{'ticker':None,'total_profit':0}\n",
    "}\n",
    "\n",
    "most_profitable['MeanReversionStrategey']['total_profit'] = \"25\"\n",
    "print(most_profitable['MeanReversionStrategey']['total_profit'])"
   ]
  }
 ],
 "metadata": {
  "kernelspec": {
   "display_name": ".venv",
   "language": "python",
   "name": "python3"
  },
  "language_info": {
   "codemirror_mode": {
    "name": "ipython",
    "version": 3
   },
   "file_extension": ".py",
   "mimetype": "text/x-python",
   "name": "python",
   "nbconvert_exporter": "python",
   "pygments_lexer": "ipython3",
   "version": "3.12.11"
  }
 },
 "nbformat": 4,
 "nbformat_minor": 5
}
