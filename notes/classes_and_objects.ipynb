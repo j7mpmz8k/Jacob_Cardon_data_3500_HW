{
 "cells": [
  {
   "cell_type": "code",
   "id": "initial_id",
   "metadata": {
    "collapsed": true,
    "ExecuteTime": {
     "end_time": "2025-10-17T18:29:46.168880Z",
     "start_time": "2025-10-17T18:29:46.141926Z"
    }
   },
   "source": [
    "class rectangle:\n",
    "    pass#used to specify nothing is added to class\n",
    "\n",
    "rectangle_a = rectangle()\n",
    "rectangle_a.x = 100\n",
    "rectangle_a.y = 200\n",
    "\n",
    "rectangle_b = rectangle()\n",
    "rectangle_b.x = 400\n",
    "rectangle_b.y = 300\n",
    "\n",
    "print(rectangle_a.x, rectangle_a.y)"
   ],
   "outputs": [
    {
     "name": "stdout",
     "output_type": "stream",
     "text": [
      "100 200\n"
     ]
    }
   ],
   "execution_count": 3
  },
  {
   "metadata": {
    "ExecuteTime": {
     "end_time": "2025-10-17T19:00:12.245608Z",
     "start_time": "2025-10-17T19:00:12.231888Z"
    }
   },
   "cell_type": "code",
   "source": [
    "class rectangle:\n",
    "    #creating a method ie. calc_area\n",
    "    def calc_area(self):\n",
    "        self.area = self.x * self.y#makes attribute withing object\n",
    "        return print(f\"area successfully calculated and stored within object\")\n",
    "\n",
    "rectangle_a = rectangle()\n",
    "rectangle_a.x = 100\n",
    "rectangle_a.y = 200\n",
    "\n",
    "rectangle_b = rectangle()\n",
    "rectangle_b.x = 400\n",
    "rectangle_b.y = 300\n",
    "\n",
    "rectangle_a.calc_area()\n",
    "\n",
    "print(rectangle_a.area)"
   ],
   "id": "11654445d09c0aed",
   "outputs": [
    {
     "name": "stdout",
     "output_type": "stream",
     "text": [
      "area successfully calculated and stored within object\n",
      "20000\n"
     ]
    }
   ],
   "execution_count": 11
  },
  {
   "metadata": {
    "ExecuteTime": {
     "end_time": "2025-10-17T18:56:32.886561Z",
     "start_time": "2025-10-17T18:56:32.877989Z"
    }
   },
   "cell_type": "code",
   "source": [
    "class rectangle:\n",
    "    #__init__ method is special cuz it runs automatically when the object is created\n",
    "    #benefits of this may include robust code enforcing uniform object creation\n",
    "    def __init__(self, x:int, y:int):\n",
    "        self.x = x\n",
    "        self.y = y\n",
    "        self.area = x * y\n",
    "\n",
    "rectangle_a = rectangle(x=5, y=9)\n",
    "rectangle_b = rectangle(x=35, y=99)\n",
    "\n",
    "print(rectangle_a.area)"
   ],
   "id": "64adb9f37cd267b7",
   "outputs": [
    {
     "name": "stdout",
     "output_type": "stream",
     "text": [
      "45\n"
     ]
    }
   ],
   "execution_count": 10
  }
 ],
 "metadata": {
  "kernelspec": {
   "display_name": "Python 3",
   "language": "python",
   "name": "python3"
  },
  "language_info": {
   "codemirror_mode": {
    "name": "ipython",
    "version": 2
   },
   "file_extension": ".py",
   "mimetype": "text/x-python",
   "name": "python",
   "nbconvert_exporter": "python",
   "pygments_lexer": "ipython2",
   "version": "2.7.6"
  }
 },
 "nbformat": 4,
 "nbformat_minor": 5
}
