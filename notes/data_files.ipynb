{
 "cells": [
  {
   "cell_type": "code",
   "execution_count": null,
   "id": "d9dfcc09",
   "metadata": {},
   "outputs": [],
   "source": [
    "import json\n",
    "\n",
    "my_hobbies = {}#json object notation similar to dictionaries\n",
    "my_hobbies[\"outdoors\"] = [\"disc golf\", \"hike\", \"ski\", \"paddle board\"]\n",
    "my_hobbies[\"indoors\"] = [\"read\", \"write\", \"sew\", \"watch movies\"]\n",
    "my_hobbies[\"tv_shows\"] = [\"the Crown\"]\n",
    "\n",
    "\n",
    "json.dump(my_hobbies, open(\"my_hobbies.json\", \"w\"))# dump adds dictionary to json file, must open to create file\n",
    "\n",
    "d1 = json.load(open(\"my_hobbies.json\", \"r\"))# load reads json and add it to the initialized dictionary\n",
    "print(\"d1:\", d1)"
   ]
  },
  {
   "cell_type": "code",
   "execution_count": null,
   "id": "b72d0621",
   "metadata": {},
   "outputs": [],
   "source": [
    "import os # more functions for interacting with operating system\n",
    "os.rename(\"old_file_name.txt\", \"renamed_file.txt\")\n",
    "os.mkdir(\"new_directory_name\")# default file path under parent directory ie.\"notes\"\n",
    "os.system(\"mkdir -p new_directory/sub_directory\")# passes linux command to operating system"
   ]
  },
  {
   "cell_type": "code",
   "execution_count": null,
   "id": "6efbbb97",
   "metadata": {},
   "outputs": [],
   "source": [
    "new_file = open(\"example.txt\", \"w\")#creates new file in same file path as parent folder of this script...ie.\"notes\"\n",
    "new_file.write(\"Hello world!\\n\")#only allows one argument...also default does not add \\n at the end\n",
    "new_file.close()\n",
    "\n",
    "#opening using with automatically closes file after loop is done\n",
    "with open(\"example.txt1\", \"w\") as with_as_file: #local variable\n",
    "    with_as_file.write(\"hello again!\\n\")"
   ]
  },
  {
   "cell_type": "code",
   "execution_count": null,
   "id": "a538ff05",
   "metadata": {},
   "outputs": [],
   "source": [
    "file_variable = open(\"/home/crostini/Github/Jacob_Cardon_data_3500_HW/Programming_Activities/PA_week4/PA_stock_data.txt\")\n",
    "lines_variable = file_variable.readlines()#\n",
    "for line in lines_variable:\n",
    "    print(line)\n",
    "file_variable.close()"
   ]
  },
  {
   "cell_type": "code",
   "execution_count": null,
   "id": "610cca8c",
   "metadata": {},
   "outputs": [],
   "source": [
    "file_variable = open(\"/home/crostini/Github/Jacob_Cardon_data_3500_HW/Programming_Activities/PA_week4/PA_stock_data.txt\") # r=read(default) w=write a=append\n",
    "content_variable = file_variable.read()#reads entire content of file\n",
    "print(content_variable)\n",
    "file_variable.close()#closes file or else python wont close till entire script is done running"
   ]
  }
 ],
 "metadata": {
  "kernelspec": {
   "display_name": ".venv",
   "language": "python",
   "name": "python3"
  },
  "language_info": {
   "codemirror_mode": {
    "name": "ipython",
    "version": 3
   },
   "file_extension": ".py",
   "mimetype": "text/x-python",
   "name": "python",
   "nbconvert_exporter": "python",
   "pygments_lexer": "ipython3",
   "version": "3.12.10"
  }
 },
 "nbformat": 4,
 "nbformat_minor": 5
}
