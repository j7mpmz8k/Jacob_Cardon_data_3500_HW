{
 "cells": [
  {
   "cell_type": "code",
   "execution_count": null,
   "id": "2897f509",
   "metadata": {},
   "outputs": [],
   "source": [
    "#how to read web json APIs\n",
    "\n",
    "import requests \n",
    "import json\n",
    "\n",
    "request = requests.get(\"https://api.datamuse.com/words?rel_trg=cow\")\n",
    "list_of_dict = json.loads(request.text)\n",
    "\n",
    "with open(\"/home/crostini/Github/Jacob_Cardon_data_3500_HW/notes/temporary.json\", \"w\") as new_file:\n",
    "    json.dump(list_of_dict, new_file, indent=1)"
   ]
  },
  {
   "cell_type": "code",
   "execution_count": null,
   "id": "d9dfcc09",
   "metadata": {},
   "outputs": [
    {
     "name": "stdout",
     "output_type": "stream",
     "text": [
      "d1: {'outdoors': ['disc golf', 'hike', 'ski', 'paddle board'], 'indoors': ['read', 'write', 'sew', 'watch movies'], 'tv_shows': ['the Crown']}\n"
     ]
    }
   ],
   "source": [
    "import json\n",
    "\n",
    "my_hobbies = {}#json object notation similar to dictionaries\n",
    "my_hobbies[\"outdoors\"] = [\"disc golf\", \"hike\", \"ski\", \"paddle board\"]\n",
    "my_hobbies[\"indoors\"] = [\"read\", \"write\", \"sew\", \"watch movies\"]\n",
    "my_hobbies[\"tv_shows\"] = [\"the Crown\"]\n",
    "\n",
    "# dump adds dictionary to json file, must open to create file\n",
    "with open(\"my_hobbies.json\", \"w\") as new_file:\n",
    "    json.dump(my_hobbies, new_file, indent=1)#indent=0(default) keeps dump on one line...indent>0 seperates into new line with indentation = to indent value\n",
    "\n",
    "\n",
    "with open(\"my_hobbies.json\", \"r\") as new_file:\n",
    "    d1 = json.load(new_file)# load reads json and add it to the initialized dictionary\n",
    "\n",
    "print(\"d1:\", d1)\n",
    "\n",
    "\n"
   ]
  },
  {
   "cell_type": "code",
   "execution_count": null,
   "id": "b72d0621",
   "metadata": {},
   "outputs": [],
   "source": [
    "import os # more functions for interacting with operating system\n",
    "os.rename(\"old_file_name.txt\", \"renamed_file.txt\")\n",
    "os.mkdir(\"new_directory_name\")# default file path under parent directory ie.\"notes\"\n",
    "os.system(\"mkdir -p new_directory/sub_directory\")# passes linux command to operating system"
   ]
  },
  {
   "cell_type": "code",
   "execution_count": null,
   "id": "6efbbb97",
   "metadata": {},
   "outputs": [],
   "source": [
    "new_file = open(\"example.txt\", \"w\")#creates new file in same file path as parent folder of this script...ie.\"notes\"\n",
    "new_file.write(\"Hello world!\\n\")#only allows one argument...also default does not add \\n at the end\n",
    "new_file.close()\n",
    "\n",
    "#opening using with automatically closes file after loop is done\n",
    "with open(\"example.txt1\", \"w\") as with_as_file: #local variable\n",
    "    with_as_file.write(\"hello again!\\n\")"
   ]
  },
  {
   "cell_type": "code",
   "execution_count": null,
   "id": "a538ff05",
   "metadata": {},
   "outputs": [],
   "source": [
    "file_variable = open(\"/home/crostini/Github/Jacob_Cardon_data_3500_HW/Programming_Activities/PA_week4/PA_stock_data.txt\")\n",
    "lines_variable = file_variable.readlines()#\n",
    "for line in lines_variable:\n",
    "    print(line)\n",
    "file_variable.close()"
   ]
  },
  {
   "cell_type": "code",
   "execution_count": null,
   "id": "610cca8c",
   "metadata": {},
   "outputs": [],
   "source": [
    "file_variable = open(\"/home/crostini/Github/Jacob_Cardon_data_3500_HW/Programming_Activities/PA_week4/PA_stock_data.txt\") # r=read(default) w=write a=append\n",
    "content_variable = file_variable.read()#reads entire content of file\n",
    "print(content_variable)\n",
    "file_variable.close()#closes file or else python wont close till entire script is done running"
   ]
  }
 ],
 "metadata": {
  "kernelspec": {
   "display_name": ".venv",
   "language": "python",
   "name": "python3"
  },
  "language_info": {
   "codemirror_mode": {
    "name": "ipython",
    "version": 3
   },
   "file_extension": ".py",
   "mimetype": "text/x-python",
   "name": "python",
   "nbconvert_exporter": "python",
   "pygments_lexer": "ipython3",
   "version": "3.12.10"
  }
 },
 "nbformat": 4,
 "nbformat_minor": 5
}
