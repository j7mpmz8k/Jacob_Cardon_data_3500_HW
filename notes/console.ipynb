{
 "cells": [
  {
   "cell_type": "code",
   "execution_count": null,
   "id": "d85ab417",
   "metadata": {},
   "outputs": [],
   "source": [
    "#To ask user in console to input information and set input to a variable\n",
    "answer = input(\"enter prompt here then press enter: \") #\"answer\" = a variable\n",
    "#Out: enter prompt here then press enter: "
   ]
  },
  {
   "cell_type": "code",
   "execution_count": null,
   "id": "503976c0",
   "metadata": {},
   "outputs": [],
   "source": [
    "print(\"hello\", \"world\")# two arguments\n",
    "print(\"hellow\"+\" world\")# one argument"
   ]
  }
 ],
 "metadata": {
  "kernelspec": {
   "display_name": ".venv",
   "language": "python",
   "name": "python3"
  },
  "language_info": {
   "name": "python",
   "version": "3.12.11"
  }
 },
 "nbformat": 4,
 "nbformat_minor": 5
}
