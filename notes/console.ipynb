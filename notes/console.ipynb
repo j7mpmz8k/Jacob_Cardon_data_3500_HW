{
 "cells": [
  {
   "cell_type": "code",
   "execution_count": null,
   "id": "d85ab417",
   "metadata": {},
   "outputs": [],
   "source": [
    "#To ask user in console to input information and set input to a variable\n",
    "answer = input(\"enter prompt here then press enter: \") #\"answer\" = a variable\n",
    "#Out: enter prompt here then press enter: "
   ]
  },
  {
   "cell_type": "code",
   "execution_count": null,
   "id": "503976c0",
   "metadata": {},
   "outputs": [],
   "source": [
    "print(\"hello\", \"world\")# two arguments\n",
    "print(\"hellow\"+\" world\")# one argument"
   ]
  }
 ],
 "metadata": {
  "language_info": {
   "name": "python"
  }
 },
 "nbformat": 4,
 "nbformat_minor": 5
}
