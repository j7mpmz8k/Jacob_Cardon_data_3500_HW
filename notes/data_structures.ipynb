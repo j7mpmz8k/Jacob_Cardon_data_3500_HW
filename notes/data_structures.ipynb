{
 "cells": [
  {
   "cell_type": "code",
   "execution_count": null,
   "id": "eeae06f6",
   "metadata": {},
   "outputs": [],
   "source": [
    "#nested dictionaries\n",
    "\n",
    "import json\n",
    "with open('/home/crostini/Github/Jacob_Cardon_data_3500_HW/notes/large_test_data.json') as file:\n",
    "    raw_data = json.load(file)\n",
    "\n",
    "#good practice to list out nested keys\n",
    "key1 = 'Time Series (Daily)'\n",
    "key2_date = '2025-06-16'#many more dates\n",
    "key3_open = '1. open'\n",
    "key3_high = '2. high'\n",
    "key3_low = '3. low'\n",
    "key3_close = '4. close'\n",
    "key3_volume = '5. volume'\n",
    "\n",
    "#pulls all close prices in all dates\n",
    "for date_key in raw_data[key1]:\n",
    "    print(f'{date_key} -->  $ {raw_data[key1][date_key][key3_close]}')"
   ]
  },
  {
   "cell_type": "code",
   "execution_count": null,
   "id": "4ab707d1",
   "metadata": {},
   "outputs": [
    {
     "name": "stdout",
     "output_type": "stream",
     "text": [
      "name Chelsea\n",
      "age 25\n",
      "employer Utah State University\n",
      "height_inches 64\n",
      "favorite_movies ['Marvel', 'Jurassic Park', 'Treasure Planet']\n",
      "\n",
      "dict_keys(['name', 'age', 'employer', 'height_inches', 'favorite_movies'])\n"
     ]
    }
   ],
   "source": [
    "#creates dictionary with curly brackets\n",
    "person = {}\n",
    "\n",
    "# adds to dictionary using normal brakets...the \"key\" is in the brackets\n",
    "person[\"name\"] = \"Chelsea\"\n",
    "person[\"age\"] = 25\n",
    "person[\"employer\"] = \"Utah State University\"\n",
    "person[\"height_inches\"] = 64\n",
    "person[\"favorite_movies\"] = [\"Marvel\", \"Jurassic Park\", \"Treasure Planet\"]#notice the value is a list\n",
    "\n",
    "\n",
    "# also looks up value using key\n",
    "for key in person:\n",
    "    print(key, person[key])\n",
    "print()\n",
    "\n",
    "print(person.keys())#finds just the keys, for nested keys ie. print(person[key1][key2].keys())...easy way to explore json structures"
   ]
  },
  {
   "cell_type": "code",
   "execution_count": null,
   "id": "e1c3e23e",
   "metadata": {},
   "outputs": [
    {
     "name": "stdout",
     "output_type": "stream",
     "text": [
      "Thmight be might be a string\n"
     ]
    }
   ],
   "source": [
    "#replace() for a substring, does not work with lists. With lists could do: list[2] = \"might be\"\n",
    "phrase = \"This is a string\"\n",
    "print(phrase.replace(\"is\",\"might be\"))"
   ]
  },
  {
   "cell_type": "code",
   "execution_count": null,
   "id": "a8aadf09",
   "metadata": {},
   "outputs": [
    {
     "name": "stdout",
     "output_type": "stream",
     "text": [
      "2\n",
      "1\n"
     ]
    }
   ],
   "source": [
    "#counting substrings\n",
    "phrase = \"to be or not to be that is the question\"#10 substrings, indexes 0-9\n",
    "\n",
    "print(phrase.count(\"to\"))#starts counting from index:0\n",
    "\n",
    "print(phrase.count(\"to\",1))#starts counting from index:1"
   ]
  },
  {
   "cell_type": "code",
   "execution_count": 32,
   "id": "d63c2363",
   "metadata": {},
   "outputs": [
    {
     "name": "stdout",
     "output_type": "stream",
     "text": [
      "['H', 'e', 'l', 'l', 'o', ' ', 'W', 'o', 'r', 'l', 'd']\n",
      "['Hello', 'world']\n"
     ]
    }
   ],
   "source": [
    "#converting tuples and strings to a list using .split() and .list()\n",
    "\n",
    "sentance_as_tuple = (\"Hello\", \"world\")\n",
    "sentence_as_string = \"Hello World\"\n",
    "\n",
    "print(list(sentence_as_string))\n",
    "print(list(sentance_as_tuple))"
   ]
  },
  {
   "cell_type": "code",
   "execution_count": null,
   "id": "f63ab42d",
   "metadata": {},
   "outputs": [],
   "source": [
    "#numpy arrays are faster than lists and take up less memory\n",
    "import numpy #aslo may include \"as np to store numpy as variable\" ie. import numpy as np\n",
    "list_example = [0,1,2,3,4,5]\n",
    "np_array = numpy.array(list_example)#output: [0 1 2 3 4 5]....note that there are no comma seperators\n",
    "array_of_zeros = numpy.zeros(100)#array of 100 zeros\n",
    "array_of_ones = numpy.ones(100)#array of 100 ones"
   ]
  },
  {
   "cell_type": "code",
   "execution_count": null,
   "id": "49d18b97",
   "metadata": {},
   "outputs": [],
   "source": [
    "#uses .rjust to right alight output\n",
    "colors = [\"red\", \"blue\", \"green\", \"purple\"]\n",
    "max_length = 0\n",
    "for color in colors: #finds largest item in list\n",
    "    if len(color) > max_length:\n",
    "        max_length = len(color)\n",
    "for color in colors:\n",
    "    print(color.rjust(max_length))#uses max_length variable to avoid right alighting too more than needed and adjust according to changes in list\n",
    "    for letter in color:\n",
    "        print(letter.rjust(max_length))\n"
   ]
  },
  {
   "cell_type": "code",
   "execution_count": 13,
   "id": "34408b38",
   "metadata": {},
   "outputs": [
    {
     "name": "stdout",
     "output_type": "stream",
     "text": [
      "2nd best: ['first', 'whohoo', 'third', 'forth']\n",
      "3rd best: ['first', 'whohoo', 'third', 'forth']\n",
      "best method: ['first', 'whohoo', 'third', 'forth']\n",
      "least effective: ['first', 'whohoo', 'third', 'forth']\n"
     ]
    }
   ],
   "source": [
    "#swapping out a specific item in a list\n",
    "#this only works for lists since they are mutable unlike tuples\n",
    "\n",
    "#if using a \"for\" loop, can't use the local variable to change or else it wont save to the global, must use---> global_var_list[local_var_index] = \"new value\"\n",
    "\n",
    "#traverses through a range equal to index positions of list, changes the specific index position...(this doesn't use any extra global variables)\n",
    "words = ['first', 'second','third','forth']\n",
    "for word_index in range(len(words)):\n",
    "    if words[word_index] == \"second\":\n",
    "        words[word_index] = \"whohoo\"\n",
    "print(\"2nd best:\", words)\n",
    "\n",
    "\n",
    "#traversing through list, index position kept track of manually using a counter, changing specific index position\n",
    "words = ['first', 'second','third','forth']\n",
    "index_position = 0\n",
    "for word in words:\n",
    "    if words[index_position] == \"second\":\n",
    "        words[index_position] = \"whohoo\"\n",
    "    index_position += 1 #enumerate function can do this instead\n",
    "print(\"3rd best:\", words)\n",
    "\n",
    "\n",
    "#advanced method using enumerate, \n",
    "words = ['first', 'second', 'third', 'forth']\n",
    "for index, word in enumerate(words):\n",
    "    if word == \"second\":\n",
    "        words[index] = \"whohoo\"\n",
    "print(\"best method:\", words)\n",
    "\n",
    "\n",
    "#traversing through list, appending to temporary list\n",
    "words = ['first', 'second','third','forth']\n",
    "temp_words = []\n",
    "for word in words:\n",
    "    if word == \"second\":\n",
    "        temp_words.append(\"whohoo\")\n",
    "    else:\n",
    "        temp_words.append(word)\n",
    "    words = temp_words\n",
    "print(\"least effective:\", words)"
   ]
  },
  {
   "cell_type": "code",
   "execution_count": 22,
   "id": "5df8172f",
   "metadata": {},
   "outputs": [
    {
     "name": "stdout",
     "output_type": "stream",
     "text": [
      "[2, 2, 3, 4, 5, 6]\n",
      "1\n",
      "1\n",
      "3\n"
     ]
    }
   ],
   "source": [
    "#How to sort a list using .sort\n",
    "lst = [3,6,4,2,5,2]\n",
    "lst.sort()\n",
    "print(lst)\n",
    "#output: [2, 2, 3, 4, 5, 6]\n",
    "\n",
    "\n",
    "#finds index position of an input using .index\n",
    "colors = [\"red\", \"blue\", \"green\", \"purple\"]\n",
    "print(colors.index(\"blue\"))\n",
    "#output: 1\n",
    "      \n",
    "\n",
    "#find starting index position of sub-string\n",
    "color = \"green\"\n",
    "print(color.index(\"re\"))#indexes: 0,1,2,3,ect\n",
    "#output: 1\n",
    "\n",
    "#looks from the right, with index positions in same left to right order\n",
    "print(color.rindex(\"e\"))# rindex() does not work in lists\n",
    "#output: 3"
   ]
  },
  {
   "cell_type": "code",
   "execution_count": 31,
   "id": "be9b6f21",
   "metadata": {},
   "outputs": [
    {
     "name": "stdout",
     "output_type": "stream",
     "text": [
      "['abc', 'xyz']\n",
      "['a', 'b', 'c']\n",
      "[1, 2, 3, 'a', 'b', 'c']\n",
      "['a', 'Hello!', 'b', 'c']\n",
      "a--b--c\n",
      "['a', 'b', 'c']\n"
     ]
    }
   ],
   "source": [
    "#append an element to the end of a list\n",
    "lst = [\"abc\"]\n",
    "lst.append(\"xyz\")\n",
    "print(lst)# output: ['abc', 'xyz']\n",
    "\n",
    "#extend a list into another list\n",
    "lst1 = [1,2,3]\n",
    "lst2 = [\"a\",\"b\",\"c\"]\n",
    "print(lst2)\n",
    "lst1.extend(lst2)\n",
    "print(lst1)# output: [1, 2, 3, 'a', 'b', 'c']\n",
    "\n",
    "#inserts element to an indexed position\n",
    "abc_list = [\"a\",\"b\",\"c\"]\n",
    "abc_list.insert(1,\"Hello!\")\n",
    "print(abc_list)# output: ['a', 'Hello!', 'b', 'c']\n",
    "\n",
    "\n",
    "lst = [\"a\",\"b\",\"c\"]\n",
    "print(\"--\".join(lst))#output: a--b--c\n",
    "string = \"a--b--c\"\n",
    "print(string.split(\"--\"))#output: ['a', 'b', 'c']\n"
   ]
  },
  {
   "cell_type": "code",
   "execution_count": null,
   "id": "10f1b583",
   "metadata": {},
   "outputs": [
    {
     "name": "stdout",
     "output_type": "stream",
     "text": [
      "[2, 5, 4, 3]\n"
     ]
    },
    {
     "data": {
      "text/plain": [
       "[2, 3, 4]"
      ]
     },
     "execution_count": 46,
     "metadata": {},
     "output_type": "execute_result"
    }
   ],
   "source": [
    "# Slice notation to reverse the string\n",
    "num_str = [3,4,5,2]\n",
    "reversed_str = num_str[::-1] # Slice notation to reverse the list\n",
    "#or\n",
    "num_str.reverse()\n",
    "print(num_str)\n",
    "\n",
    "#slicing a list\n",
    "list_w_index_position = [0,1,2,3,4,5,6,7,8,9,10]\n",
    "list_w_index_position[2:5]#syntax: [cuts off index's prior this position(default=0), retreives index position ranges from 0 to this position minus prior syntax value (default=infinity)]\n",
    "#output: [2, 3, 4]"
   ]
  },
  {
   "cell_type": "code",
   "execution_count": 24,
   "id": "8bf97681",
   "metadata": {},
   "outputs": [
    {
     "name": "stdout",
     "output_type": "stream",
     "text": [
      "letter:  J\n",
      "letter:  o\n",
      "letter:  h\n",
      "letter:  n\n",
      "color:  red\n",
      "color:  blue\n",
      "color:  green\n"
     ]
    }
   ],
   "source": [
    "#for loop through a string\n",
    "name = (\"John\")\n",
    "for i in name:\n",
    "\tprint(\"letter: \", i)\n",
    "\n",
    "#for loop w/ list outputs each item in list\n",
    "colors = [\"red\", \"blue\", \"green\"]\n",
    "for i in colors:\n",
    "\tprint(\"color: \", i)"
   ]
  },
  {
   "cell_type": "code",
   "execution_count": 25,
   "id": "3e8c552d",
   "metadata": {},
   "outputs": [
    {
     "name": "stdout",
     "output_type": "stream",
     "text": [
      "[3, 1, -1, -3]\n",
      "0\n",
      "1\n",
      "2\n",
      "3\n"
     ]
    }
   ],
   "source": [
    "#range creates a list of numbers between two numbers\n",
    "r = range(3,-5,-2) #(start,stop,steps)\n",
    "print(list(r))\n",
    "#Out: 3,1,-1,-3,-5\n",
    "\n",
    "for i in range(0,4):\n",
    "\tprint(i)\n",
    "#Out: 0,1,2,3,4"
   ]
  },
  {
   "cell_type": "code",
   "execution_count": null,
   "id": "4ce46a30",
   "metadata": {},
   "outputs": [],
   "source": [
    "#make a variable\n",
    "pi_string = (\"3.14\")\n",
    "pi_float = 3.14\n",
    "not_pi_int = 314"
   ]
  }
 ],
 "metadata": {
  "kernelspec": {
   "display_name": ".venv",
   "language": "python",
   "name": "python3"
  },
  "language_info": {
   "codemirror_mode": {
    "name": "ipython",
    "version": 3
   },
   "file_extension": ".py",
   "mimetype": "text/x-python",
   "name": "python",
   "nbconvert_exporter": "python",
   "pygments_lexer": "ipython3",
   "version": "3.12.11"
  }
 },
 "nbformat": 4,
 "nbformat_minor": 5
}
