{
 "cells": [
  {
   "cell_type": "code",
   "execution_count": null,
   "id": "f63ab42d",
   "metadata": {},
   "outputs": [],
   "source": [
    "#numpy arrays are faster than lists and take up less memory\n",
    "import numpy #aslo may include \"as np to store numpy as variable\" ie. import numpy as np\n",
    "list_example = [0,1,2,3,4,5]\n",
    "np_array = numpy.array(list_example)#output: [0 1 2 3 4 5]....note that there are no comma seperators\n",
    "array_of_zeros = numpy.zeros(100)#array of 100 zeros\n",
    "array_of_ones = numpy.ones(100)#array of 100 ones"
   ]
  },
  {
   "cell_type": "code",
   "execution_count": null,
   "id": "49d18b97",
   "metadata": {},
   "outputs": [],
   "source": [
    "#uses .rjust to right alight output\n",
    "colors = [\"red\", \"blue\", \"green\", \"purple\"]\n",
    "max_length = 0\n",
    "for color in colors: #finds largest item in list\n",
    "    if len(color) > max_length:\n",
    "        max_length = len(color)\n",
    "for color in colors:\n",
    "    print(color.rjust(max_length))#uses max_length variable to avoid right alighting too more than needed and adjust according to changes in list\n",
    "    for letter in color:\n",
    "        print(letter.rjust(max_length))\n"
   ]
  },
  {
   "cell_type": "code",
   "execution_count": null,
   "id": "34408b38",
   "metadata": {},
   "outputs": [],
   "source": [
    "#this only works for lists since they are mutable unlike tuples\n",
    "def changeint(lst):\n",
    "    lst[0] = 9999999#alters an index position of a list\n",
    "    return #in this case return doesn't matter\n",
    "lst2 = [1,2,3,4,5]\n",
    "changeint(lst2)\n",
    "print(lst2)\n",
    "#output: [9999999, 2, 3, 4, 5]"
   ]
  },
  {
   "cell_type": "code",
   "execution_count": null,
   "id": "5df8172f",
   "metadata": {},
   "outputs": [],
   "source": [
    "#How to sort a list using .sort\n",
    "lst = [3,6,4,2,5,2]\n",
    "lst.sort()\n",
    "print(lst)\n",
    "#output: [2, 2, 3, 4, 5, 6]\n",
    "\n",
    "\n",
    "#finds index position of an input using .index\n",
    "colors = [\"red\", \"blue\", \"green\", \"purple\"]\n",
    "print(colors.index(\"blue\"))\n",
    "#output: 1\n"
   ]
  },
  {
   "cell_type": "code",
   "execution_count": null,
   "id": "be9b6f21",
   "metadata": {},
   "outputs": [],
   "source": [
    "#append an element to the end of a list\n",
    "lst = [\"abc\"]\n",
    "lst.append(\"xyz\")\n",
    "print(lst)# output: ['abc', 'xyz']\n",
    "\n",
    "#extend a list into another list\n",
    "lst1 = [1,2,3]\n",
    "lst2 = [\"a\",\"b\",\"c\"]\n",
    "print(lst2)\n",
    "lst1.extend(lst2)\n",
    "print(lst1)# output: [1, 2, 3, 'a', 'b', 'c']\n",
    "\n",
    "#inserts element to an indexed position\n",
    "abc_list = [\"a\",\"b\",\"c\"]\n",
    "abc_list.insert(1,\"Hello!\")\n",
    "print(abc_list)# output: ['a', 'Hello!', 'b', 'c']"
   ]
  },
  {
   "cell_type": "code",
   "execution_count": null,
   "id": "10f1b583",
   "metadata": {},
   "outputs": [],
   "source": [
    "# Slice notation to reverse the string\n",
    "num_str = [3,4,5,2]\n",
    "reversed_str = num_str[::-1] # Slice notation to reverse the string\n",
    "\n",
    "#slicing a list\n",
    "list_w_index_position = [0,1,2,3,4,5,6,7,8,9,10]\n",
    "list_w_index_position[2:5]#syntax: [cuts off index's prior this position(default=0), retreives index position ranges from 0 to this position minus prior syntax value (default=infinity)]\n",
    "#output: [2, 3, 4]"
   ]
  },
  {
   "cell_type": "code",
   "execution_count": null,
   "id": "6a5e966c",
   "metadata": {},
   "outputs": [],
   "source": [
    "#sum total of list & count of items in list\n",
    "grades = [50, 45, 48, 10]\n",
    "total = 0\n",
    "num_grades = 0\n",
    "for i in grades:\n",
    "\ttotal += i\n",
    "\tnum_grades += 1\n",
    "\tprint(total,num_grades)"
   ]
  },
  {
   "cell_type": "code",
   "execution_count": null,
   "id": "8bf97681",
   "metadata": {},
   "outputs": [],
   "source": [
    "#for loop through a string\n",
    "name = (\"John\")\n",
    "for i in name:\n",
    "\tprint(\"letter: \", i)\n",
    "\n",
    "#for loop w/ list outputs each item in list\n",
    "colors = [\"red\", \"blue\", \"green\"]\n",
    "for i in colors:\n",
    "\tprint(\"color: \", i)"
   ]
  },
  {
   "cell_type": "code",
   "execution_count": null,
   "id": "3e8c552d",
   "metadata": {},
   "outputs": [],
   "source": [
    "#range creates a list of numbers between two numbers\n",
    "r = range(3,-5,-2) #(start,stop,steps)\n",
    "print(list(r))\n",
    "#Out: 3,1,-1,-3,-5\n",
    "\n",
    "for i in range(0,4):\n",
    "\tprint(i)\n",
    "#Out: 0,1,2,3,4"
   ]
  },
  {
   "cell_type": "code",
   "execution_count": null,
   "id": "4ce46a30",
   "metadata": {},
   "outputs": [],
   "source": [
    "#make a variable\n",
    "pi_string = (\"3.14\")\n",
    "pi_float = 3.14\n",
    "not_pi_int = 314"
   ]
  }
 ],
 "metadata": {
  "kernelspec": {
   "display_name": ".venv",
   "language": "python",
   "name": "python3"
  },
  "language_info": {
   "name": "python",
   "version": "3.12.10"
  }
 },
 "nbformat": 4,
 "nbformat_minor": 5
}
