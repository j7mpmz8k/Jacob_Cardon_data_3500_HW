{
 "cells": [
  {
   "cell_type": "code",
   "execution_count": 6,
   "id": "24c39261",
   "metadata": {},
   "outputs": [
    {
     "name": "stdout",
     "output_type": "stream",
     "text": [
      "False\n",
      "True\n"
     ]
    }
   ],
   "source": [
    "string = \"123abc\"\n",
    "print(string.isdigit())#checks if all characters are numbers\n",
    "print(string.isalnum())#checks if characters are letters are numbers...no symbols or spaces"
   ]
  },
  {
   "cell_type": "code",
   "execution_count": null,
   "id": "c5d62f2d",
   "metadata": {},
   "outputs": [],
   "source": [
    "import time\n",
    "start_time = time.time()\n",
    "print(\"hello world\")\n",
    "end_time = time.time()\n",
    "time_lapsed_seconds = end_time - start_time\n",
    "print(\"seconds to run script:\", time_lapsed_seconds)"
   ]
  },
  {
   "cell_type": "code",
   "execution_count": null,
   "id": "9c04d89d",
   "metadata": {},
   "outputs": [],
   "source": [
    "#math module(complete list at https://docs.python.org/3/library/math.html)\n",
    "import math# returns floats\n",
    "math.ceil(9.2)# rounds up\n",
    "math.floor(9.2)# rounds down\n",
    "math.fabs(-5)# absolute value\n",
    "math.sqrt(16)# squareroot\n",
    "math.fmod(7,4)# remainder, ie. 7/4=1 3/4...output: 3.0"
   ]
  },
  {
   "cell_type": "code",
   "execution_count": null,
   "id": "b62ee9cf",
   "metadata": {},
   "outputs": [],
   "source": [
    "import numpy# numpy includes its own random module\n",
    "print(numpy.random.rand(3))#outputs 3 random numbers 0-1\n",
    "print(numpy.random.rand(3,4))#outputs 3 rows, 4 collums, nums 0-1\n",
    "print(numpy.random.randint(1, 4, size=10))#output: 1-3 with array of 10 random numbers"
   ]
  },
  {
   "cell_type": "code",
   "execution_count": null,
   "id": "1636965f",
   "metadata": {},
   "outputs": [],
   "source": [
    "#generates random number, imports 'random' library module\n",
    "import random\n",
    "print(random.randrange(1,4))# output: 1-3\n",
    "print(random.randint(1,4))# output: 1-4"
   ]
  },
  {
   "cell_type": "code",
   "execution_count": null,
   "id": "3514bcc1",
   "metadata": {},
   "outputs": [],
   "source": [
    "#augmented operators\n",
    "age = 0 #initializing variable\n",
    "age += 1\n",
    "#this is the same as age = age + 1\n",
    "#more:\n",
    "age -= 1\n",
    "age //= 1\n",
    "age *= 1"
   ]
  },
  {
   "cell_type": "code",
   "execution_count": null,
   "id": "f93ff853",
   "metadata": {},
   "outputs": [],
   "source": [
    "#numbers input from user are strings, use eval() to convert\n",
    "inputvariable = input(\"enter a number: \")\n",
    "inputvariable = eval(inputvariable)"
   ]
  },
  {
   "cell_type": "code",
   "execution_count": null,
   "id": "eb799fcd",
   "metadata": {},
   "outputs": [],
   "source": [
    "number = (\"3\") #string\n",
    "number = eval(number)\n",
    "print(number)\n",
    "#Out: 3 #int OR use int()"
   ]
  },
  {
   "cell_type": "code",
   "execution_count": null,
   "id": "573d697c",
   "metadata": {},
   "outputs": [],
   "source": [
    "#convert string to floating number as numbers input from user are strings\n",
    "number = (\"3.0\") #string\n",
    "number = eval(number)\n",
    "print(number)\n",
    "#Out: 3.0 #float or use float()"
   ]
  },
  {
   "cell_type": "code",
   "execution_count": null,
   "id": "d73675ac",
   "metadata": {},
   "outputs": [],
   "source": [
    "#checks if number is even\n",
    "import random\n",
    "num = random.randint(0,10)\n",
    "if num%2 == 0:\n",
    "    print(num, \"is even!\")\n",
    "else:\n",
    "    print(num, \"is odd\")"
   ]
  },
  {
   "cell_type": "code",
   "execution_count": null,
   "id": "3160ad82",
   "metadata": {},
   "outputs": [],
   "source": [
    "#to convert from integer ie. 3 to floating number number ie. 3.0\n",
    "float(3) \n",
    "#Out: 3.0\n",
    "\n",
    "9//2 #floor division while truncating remainder\n",
    "3**5 #3 to the power of 5\n",
    "9%2 #modulus division leaving only remainder"
   ]
  }
 ],
 "metadata": {
  "kernelspec": {
   "display_name": ".venv",
   "language": "python",
   "name": "python3"
  },
  "language_info": {
   "codemirror_mode": {
    "name": "ipython",
    "version": 3
   },
   "file_extension": ".py",
   "mimetype": "text/x-python",
   "name": "python",
   "nbconvert_exporter": "python",
   "pygments_lexer": "ipython3",
   "version": "3.12.10"
  }
 },
 "nbformat": 4,
 "nbformat_minor": 5
}
