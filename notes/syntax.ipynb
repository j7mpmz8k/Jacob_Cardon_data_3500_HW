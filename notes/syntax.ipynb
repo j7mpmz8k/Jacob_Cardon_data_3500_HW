{
 "cells": [
  {
   "cell_type": "code",
   "execution_count": null,
   "id": "4af64540",
   "metadata": {},
   "outputs": [
    {
     "name": "stdout",
     "output_type": "stream",
     "text": [
      "capitalize() John doe\n",
      "upper() JOHN DOE\n",
      "lower() john doe\n"
     ]
    }
   ],
   "source": [
    "name = \"joHn Doe\"\n",
    "print(\"capitalize()\", name.capitalize())# makes ONLY the first letter of the string becomes uppercased\n",
    "print(\"upper()\", name.upper())# ALL letters are uppercased\n",
    "print(\"lower()\", name.lower())# all letters become lower cased"
   ]
  },
  {
   "cell_type": "code",
   "execution_count": 2,
   "id": "ca4f0d4d",
   "metadata": {},
   "outputs": [
    {
     "name": "stdout",
     "output_type": "stream",
     "text": [
      "hi hi hi hi hi \n"
     ]
    }
   ],
   "source": [
    "#repeating strings\n",
    "repeating_string = \"hi \"\n",
    "repeating_string *= 5\n",
    "print(repeating_string)#output: hi hi hi hi hi "
   ]
  },
  {
   "cell_type": "code",
   "execution_count": 3,
   "id": "7cf67f1b",
   "metadata": {},
   "outputs": [
    {
     "name": "stdout",
     "output_type": "stream",
     "text": [
      "[1.0, 2.0, 3.0]\n",
      "[1.0, 2.0, 3.0]\n"
     ]
    }
   ],
   "source": [
    "#old list method\n",
    "lst=[]\n",
    "for i in range(1,4):\n",
    "      i = float(i)# makes each item a float\n",
    "      lst.append(i)# creates list of [1,2,3]\n",
    "print(lst)#output: [1.0, 2.0, 3.0]\n",
    "\n",
    "#new method, LIST COMREHENSION\n",
    "new_lst = [float(i) for i in range(1,4)]# automatically appends i AND converts to a float\n",
    "print(new_lst)#output: [1.0, 2.0, 3.0]"
   ]
  },
  {
   "cell_type": "code",
   "execution_count": 4,
   "id": "9f095fda",
   "metadata": {},
   "outputs": [
    {
     "name": "stdout",
     "output_type": "stream",
     "text": [
      "3.14\n",
      "3.14   \n",
      "\t\n",
      "\t \n",
      "  3.14\n"
     ]
    }
   ],
   "source": [
    "pi = \"\\t \\n  3.14   \\n\\t\"\n",
    "print(pi.strip())#removes on both sides all whitepaces, tabs, new lines, ect.\n",
    "print(pi.lstrip())#removes them from the left\n",
    "print(pi.rstrip())#removes them from the right"
   ]
  },
  {
   "cell_type": "code",
   "execution_count": 5,
   "id": "369a5be1",
   "metadata": {},
   "outputs": [
    {
     "name": "stdout",
     "output_type": "stream",
     "text": [
      "happy birthday\n"
     ]
    }
   ],
   "source": [
    "#string contatenating\n",
    "s1 = \"happy\"\n",
    "s2 = \"birthday\"\n",
    "s1 += \" \" + s2# has same function as s1 = s1+\" \"+s2\n",
    "print(s1)# output: happy birthday"
   ]
  },
  {
   "cell_type": "code",
   "execution_count": 13,
   "id": "e4895d1e",
   "metadata": {},
   "outputs": [
    {
     "name": "stdout",
     "output_type": "stream",
     "text": [
      " \n",
      "this is the first line\n",
      "This is the second line\n",
      "This is the third line\n",
      "\n"
     ]
    }
   ],
   "source": [
    "#Triple double quotes quotes for multi line string\n",
    "print(\"\"\" \n",
    "this is the first line\n",
    "This is the second line\n",
    "This is the third line\n",
    "\"\"\")"
   ]
  },
  {
   "cell_type": "code",
   "execution_count": 8,
   "id": "b9f6d899",
   "metadata": {},
   "outputs": [
    {
     "name": "stdout",
     "output_type": "stream",
     "text": [
      "string \"string\" string\n",
      "string 'string' string\n",
      "string \"string\" string\n"
     ]
    }
   ],
   "source": [
    "'string' == \"string\"\n",
    "#use \\\" inside double quotes for nested strings\n",
    "print(\"string \\\"string\\\" string\")\n",
    "#Or use single quotes inside double quotes\n",
    "print(\"string 'string' string\")\n",
    "#Or vice versa\n",
    "print('string \"string\" string') "
   ]
  },
  {
   "cell_type": "code",
   "execution_count": 9,
   "id": "20559236",
   "metadata": {},
   "outputs": [
    {
     "name": "stdout",
     "output_type": "stream",
     "text": [
      "HelloWorld\n"
     ]
    }
   ],
   "source": [
    "print(\"Hello\", end=\"\") #unless specified, end parameter is set to \\n by default after every output\n",
    "print(\"World\")\n",
    "# Output: HelloWorld"
   ]
  },
  {
   "cell_type": "code",
   "execution_count": 10,
   "id": "5353f47d",
   "metadata": {},
   "outputs": [
    {
     "name": "stdout",
     "output_type": "stream",
     "text": [
      "<class 'str'>\n"
     ]
    }
   ],
   "source": [
    "#to reveal type\n",
    "print(type('string'))\n",
    "#Out: <class ‘str’>"
   ]
  }
 ],
 "metadata": {
  "kernelspec": {
   "display_name": ".venv",
   "language": "python",
   "name": "python3"
  },
  "language_info": {
   "codemirror_mode": {
    "name": "ipython",
    "version": 3
   },
   "file_extension": ".py",
   "mimetype": "text/x-python",
   "name": "python",
   "nbconvert_exporter": "python",
   "pygments_lexer": "ipython3",
   "version": "3.12.10"
  }
 },
 "nbformat": 4,
 "nbformat_minor": 5
}
