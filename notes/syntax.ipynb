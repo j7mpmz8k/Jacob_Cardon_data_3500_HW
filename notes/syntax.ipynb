{
 "cells": [
  {
   "cell_type": "code",
   "execution_count": null,
   "id": "ca4f0d4d",
   "metadata": {},
   "outputs": [],
   "source": [
    "#repeating strings\n",
    "repeating_string = \"hi \"\n",
    "repeating_string *= 5\n",
    "print(repeating_string)#output: hi hi hi hi hi "
   ]
  },
  {
   "cell_type": "code",
   "execution_count": null,
   "id": "7cf67f1b",
   "metadata": {},
   "outputs": [],
   "source": [
    "#old list method\n",
    "lst=[]\n",
    "for i in range(1,4):\n",
    "      i = float(i)# makes each item a float\n",
    "      lst.append(i)# creates list of [1,2,3]\n",
    "print(lst)#output: [1.0, 2.0, 3.0]\n",
    "\n",
    "#new method, LIST COMREHENSION\n",
    "new_lst = [float(i) for i in range(1,4)]# automatically appends i AND converts to a float\n",
    "print(new_lst)#output: [1.0, 2.0, 3.0]"
   ]
  },
  {
   "cell_type": "code",
   "execution_count": null,
   "id": "9f095fda",
   "metadata": {},
   "outputs": [],
   "source": [
    "pi = \"\\t \\n  3.14   \\n\\t\"\n",
    "print(pi.strip())#removes on both sides all whitepaces, tabs, new lines, ect.\n",
    "print(pi.lstrip())#removes them from the left\n",
    "print(pi.rstrip())#removes them from the right"
   ]
  },
  {
   "cell_type": "code",
   "execution_count": null,
   "id": "369a5be1",
   "metadata": {},
   "outputs": [],
   "source": [
    "#string contatenating\n",
    "s1 = \"happy\"\n",
    "s2 = \"birthday\"\n",
    "s1 += \" \" + s2# has same function as s1 = s1+\" \"+s2\n",
    "print(s1)# output: happy birthday"
   ]
  },
  {
   "cell_type": "code",
   "execution_count": null,
   "id": "e4895d1e",
   "metadata": {},
   "outputs": [],
   "source": [
    "#Triple double quotes quotes for multi line string\n",
    "print(\"\"\" \n",
    "this is the first line\n",
    "This is the second line\n",
    "This is the third line\n",
    "\"\"\")\n",
    "\n",
    "#Triple single quotes for multi line comments\n",
    "'''\n",
    "this is the first line\n",
    "This is the second line\n",
    "This is the third line\n",
    "'''"
   ]
  },
  {
   "cell_type": "code",
   "execution_count": null,
   "id": "b9f6d899",
   "metadata": {},
   "outputs": [],
   "source": [
    "'string' = \"string\"\n",
    "#use \\\" inside double quotes for nested strings\n",
    "print(\"string \\\"string\\\" string\")\n",
    "#Or use single quotes inside double quotes\n",
    "print(\"string 'string' string\")\n",
    "#Or vice versa\n",
    "print('string \"string\" string') "
   ]
  },
  {
   "cell_type": "code",
   "execution_count": null,
   "id": "20559236",
   "metadata": {},
   "outputs": [],
   "source": [
    "print(\"Hello\", end=\"\") #unless specified, end parameter is set to \\n by default after every output\n",
    "print(\"World\")\n",
    "# Output: HelloWorld"
   ]
  },
  {
   "cell_type": "code",
   "execution_count": null,
   "id": "5353f47d",
   "metadata": {},
   "outputs": [],
   "source": [
    "#to reveal type\n",
    "print(type('string'))\n",
    "#Out: <class ‘str’>"
   ]
  }
 ],
 "metadata": {
  "kernelspec": {
   "display_name": ".venv",
   "language": "python",
   "name": "python3"
  },
  "language_info": {
   "name": "python",
   "version": "3.12.10"
  }
 },
 "nbformat": 4,
 "nbformat_minor": 5
}
