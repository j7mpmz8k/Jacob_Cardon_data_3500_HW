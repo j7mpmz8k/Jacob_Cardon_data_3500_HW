{
 "cells": [
  {
   "cell_type": "code",
   "execution_count": null,
   "id": "1e105223",
   "metadata": {},
   "outputs": [],
   "source": [
    "try:#used since scripts like 5/0 result in error breaking script\n",
    "    print(5/0)\n",
    "except:#only executed if error\n",
    "    print(\"somebody put a zero in the denominator\")\n",
    "    \n",
    "    \n",
    "print(\"python program is still running\")"
   ]
  },
  {
   "cell_type": "code",
   "execution_count": 2,
   "id": "9547877c",
   "metadata": {},
   "outputs": [
    {
     "name": "stdout",
     "output_type": "stream",
     "text": [
      "0 1 \n",
      "0 1 3 \n",
      "0 1 2 "
     ]
    }
   ],
   "source": [
    "# break\n",
    "for i in range(4):\n",
    "    if i == 2:\n",
    "        break\n",
    "    print(i, \"\", end=\"\")\n",
    "#Output: 0 1 \n",
    "print()\n",
    "\n",
    "# continue\n",
    "for i in range(4):\n",
    "    if i == 2:\n",
    "        continue\n",
    "    print(i, \"\", end=\"\")\n",
    "#Output: 0 1 3 4\n",
    "print()\n",
    "\n",
    "# continue\n",
    "for i in range(4):\n",
    "    if i > 2:\n",
    "        continue\n",
    "    print(i, \"\", end=\"\") \n",
    "#Output: 0 1 2"
   ]
  },
  {
   "cell_type": "code",
   "execution_count": null,
   "id": "3448f75b",
   "metadata": {},
   "outputs": [
    {
     "name": "stdout",
     "output_type": "stream",
     "text": [
      "0 0 0 0 \n",
      "0 1 2 3 \n",
      "0 2 4 6 \n"
     ]
    }
   ],
   "source": [
    "#outputs 3 rows, 4 col, with increasing values of multiplication tables\n",
    "for row in range(3):\n",
    "\tfor col in range(4):\n",
    "\t\tprint(row*col, end=\" \")\n",
    "\tprint()"
   ]
  },
  {
   "cell_type": "code",
   "execution_count": null,
   "id": "e935c8dc",
   "metadata": {},
   "outputs": [],
   "source": [
    "#sentinel values are used as a unique input value to end a \"while\" loop\n",
    "sentinal = -1\n",
    "selection = 0\n",
    "while selection > -1:\n",
    "\tprint(\"\\nChoose your selection from the following\")\n",
    "\tselection = int(input(\"1 or 2\\nEnter your selection: \"))\n",
    "\tif selection == 1 or 2:\n",
    "\t\tprint(\"selection noted, please try again\")"
   ]
  },
  {
   "cell_type": "code",
   "execution_count": null,
   "id": "e9b7948d",
   "metadata": {},
   "outputs": [],
   "source": [
    "#using while to repeat until false\n",
    "age = 1\n",
    "while age < 3:\n",
    "\tprint(\"age: \", age)\n",
    "\tage = age + 1\n",
    "else:\n",
    "\tprint(\"Your age is now 3!\")\n",
    "'''Out: 1\n",
    "        2\n",
    "        3'''"
   ]
  },
  {
   "cell_type": "code",
   "execution_count": null,
   "id": "fa4e0265",
   "metadata": {},
   "outputs": [],
   "source": [
    "#nested if statements use elif\n",
    "grade = 75\n",
    "if grade >= 90:\n",
    "\tprint(\"A\")\n",
    "elif grade >= 80:\n",
    "\tprint(\"B\")\n",
    "elif grade >= 70:\n",
    "\tprint(\"C\")\n",
    "elif grade >= 60:\n",
    "\tprint(\"D\")\n",
    "else:\n",
    "\tprint(\"F\")"
   ]
  },
  {
   "cell_type": "code",
   "execution_count": null,
   "id": "57eb7f49",
   "metadata": {},
   "outputs": [],
   "source": [
    "#IF statement syntax(must end with : and reported results must start with indentation\n",
    "if 5 > 10:\n",
    "\tprint(\"true\")\n",
    "else: #optional\n",
    "\tprint(\"false\")"
   ]
  },
  {
   "cell_type": "code",
   "execution_count": null,
   "id": "8e37b1bb",
   "metadata": {},
   "outputs": [],
   "source": [
    "#to check for not equal\n",
    "print(5 != 8)\n",
    "#Out: true"
   ]
  },
  {
   "cell_type": "code",
   "execution_count": null,
   "id": "7092cd2a",
   "metadata": {},
   "outputs": [],
   "source": [
    "#To check if two value are equal to each other, use ==\n",
    "print(5 == 8)\n",
    "#Out: false"
   ]
  }
 ],
 "metadata": {
  "kernelspec": {
   "display_name": ".venv",
   "language": "python",
   "name": "python3"
  },
  "language_info": {
   "codemirror_mode": {
    "name": "ipython",
    "version": 3
   },
   "file_extension": ".py",
   "mimetype": "text/x-python",
   "name": "python",
   "nbconvert_exporter": "python",
   "pygments_lexer": "ipython3",
   "version": "3.12.10"
  }
 },
 "nbformat": 4,
 "nbformat_minor": 5
}
