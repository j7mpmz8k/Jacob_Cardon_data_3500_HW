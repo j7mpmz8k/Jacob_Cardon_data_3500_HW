{
 "cells": [
  {
   "cell_type": "code",
   "execution_count": 30,
   "id": "0331d92e",
   "metadata": {},
   "outputs": [],
   "source": [
    "def isAnagram(word1, word2):\n",
    "    word1 = list(word1)\n",
    "    word1.sort()\n",
    "    word2 = list(word2)\n",
    "    word2.sort()\n",
    "    return word1 == word2"
   ]
  },
  {
   "cell_type": "code",
   "execution_count": null,
   "id": "dcd1a7da",
   "metadata": {},
   "outputs": [],
   "source": [
    "#custom function definition for (a^b)+1\n",
    "def raised_to_power_of_num_plus1(place_holder1=0, place_holder2=0):# \"=0\" is the default value if nothing entered\n",
    "    combined_placeholder = place_holder1 ** place_holder2 #optional\n",
    "    return combined_placeholder + 1 # \"+1\" could have also been in optional variable\n",
    "print(raised_to_power_of_num_plus1(3, 2)) #(3^2)+1.....3 & 2 override 0 as default value"
   ]
  }
 ],
 "metadata": {
  "kernelspec": {
   "display_name": ".venv",
   "language": "python",
   "name": "python3"
  },
  "language_info": {
   "codemirror_mode": {
    "name": "ipython",
    "version": 3
   },
   "file_extension": ".py",
   "mimetype": "text/x-python",
   "name": "python",
   "nbconvert_exporter": "python",
   "pygments_lexer": "ipython3",
   "version": "3.12.10"
  }
 },
 "nbformat": 4,
 "nbformat_minor": 5
}
