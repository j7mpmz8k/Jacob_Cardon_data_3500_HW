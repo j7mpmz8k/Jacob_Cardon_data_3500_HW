{
 "cells": [
  {
   "cell_type": "code",
   "execution_count": null,
   "id": "5a36f773",
   "metadata": {},
   "outputs": [
    {
     "name": "stdout",
     "output_type": "stream",
     "text": [
      "['Alice Smith', 'Bob Jones', 'Charlie Williams', 'David Brown', 'Eve Davis', 'Frank Miller', 'Grace Wilson', 'Heidi Moore', 'Ivan Taylor', 'Judy Anderson']\n"
     ]
    }
   ],
   "source": [
    "def concat_first_last_names(first_names, last_names):\n",
    "    full_names = [first_names[i] + \" \" + last_names[i] for i in range(len(first_names))]\n",
    "    return full_names\n",
    "\n",
    "first_names = [\"Alice\", \"Bob\", \"Charlie\", \"David\", \"Eve\", \"Frank\", \"Grace\", \"Heidi\", \"Ivan\", \"Judy\"]\n",
    "last_names = [\"Smith\", \"Jones\", \"Williams\", \"Brown\", \"Davis\", \"Miller\", \"Wilson\", \"Moore\", \"Taylor\", \"Anderson\"]\n",
    "\n",
    "print(concat_first_last_names(first_names, last_names))"
   ]
  },
  {
   "cell_type": "code",
   "execution_count": 15,
   "id": "f2b26563",
   "metadata": {},
   "outputs": [
    {
     "data": {
      "text/plain": [
       "True"
      ]
     },
     "execution_count": 15,
     "metadata": {},
     "output_type": "execute_result"
    }
   ],
   "source": [
    "def isPalandrome(word):\n",
    "    word = list(word)\n",
    "    return word == word[::-1]\n",
    "\n",
    "isPalandrome(\"racecar\")\n"
   ]
  },
  {
   "cell_type": "code",
   "execution_count": 35,
   "id": "0331d92e",
   "metadata": {},
   "outputs": [
    {
     "name": "stdout",
     "output_type": "stream",
     "text": [
      "True\n"
     ]
    }
   ],
   "source": [
    "def isAnagram(word1, word2):\n",
    "    return sorted(word1) == sorted(word2)\n",
    "\n",
    "print(isAnagram(\"apple\",\"ppale\"))"
   ]
  },
  {
   "cell_type": "code",
   "execution_count": null,
   "id": "dcd1a7da",
   "metadata": {},
   "outputs": [],
   "source": [
    "#custom function definition for (a^b)+1\n",
    "def raised_to_power_of_num_plus1(place_holder1=0, place_holder2=0):# \"=0\" is the default value if nothing entered\n",
    "    combined_placeholder = place_holder1 ** place_holder2 #optional\n",
    "    return combined_placeholder + 1 # \"+1\" could have also been in optional variable\n",
    "print(raised_to_power_of_num_plus1(3, 2)) #(3^2)+1.....3 & 2 override 0 as default value"
   ]
  }
 ],
 "metadata": {
  "kernelspec": {
   "display_name": ".venv",
   "language": "python",
   "name": "python3"
  },
  "language_info": {
   "codemirror_mode": {
    "name": "ipython",
    "version": 3
   },
   "file_extension": ".py",
   "mimetype": "text/x-python",
   "name": "python",
   "nbconvert_exporter": "python",
   "pygments_lexer": "ipython3",
   "version": "3.12.10"
  }
 },
 "nbformat": 4,
 "nbformat_minor": 5
}
