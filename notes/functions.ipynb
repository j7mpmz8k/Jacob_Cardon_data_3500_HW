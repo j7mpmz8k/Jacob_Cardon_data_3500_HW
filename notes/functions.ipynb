{
 "cells": [
  {
   "cell_type": "code",
   "execution_count": 2,
   "id": "c9c500f7",
   "metadata": {},
   "outputs": [
    {
     "name": "stdout",
     "output_type": "stream",
     "text": [
      "True\n"
     ]
    }
   ],
   "source": [
    "#custom function for anagram    ie. hello & ohell\n",
    "#if matching letter is found using \"if value in list\"... value is removed from list...if list is zero\n",
    "def isAnagram(word1, word2):\n",
    "\n",
    "    #checks if both word size is the same\n",
    "    if len(word1) != len(word2):\n",
    "        return False\n",
    "    \n",
    "    else:\n",
    "        #convert to list, when a letter match is found, letter is removed from list\n",
    "        list1 = []#list of word1\n",
    "        list2 = []#list of word2\n",
    "        for letter in word1:\n",
    "            list1.append(letter)\n",
    "        for letter in word2:\n",
    "            list2.append(letter)\n",
    "\n",
    "        #checks if each letter from from word1 is remaining in available letters from the word2 list\n",
    "        for word1_letter in word1:\n",
    "            if word1_letter in list2:\n",
    "                list2.remove(word1_letter)\n",
    "\n",
    "        #checks if each letter from from word2 is remaining in available letters from the word1 list\n",
    "        for word2_letter in word2:\n",
    "            if word2_letter in list1:\n",
    "                list1.remove(word2_letter)\n",
    "\n",
    "    #checks if both word lists are reduced to zero implying an anagram is True\n",
    "    return int(len(list1)) == 0 and int(len(list2)) == 0\n",
    "\n",
    "print(isAnagram(\"aekale\",\"aleaek\"))"
   ]
  },
  {
   "cell_type": "code",
   "execution_count": null,
   "id": "dcd1a7da",
   "metadata": {},
   "outputs": [],
   "source": [
    "#custom function definition for (a^b)+1\n",
    "def raised_to_power_of_num_plus1(place_holder1=0, place_holder2=0):# \"=0\" is the default value if nothing entered\n",
    "    combined_placeholder = place_holder1 ** place_holder2 #optional\n",
    "    return combined_placeholder + 1 # \"+1\" could have also been in optional variable\n",
    "print(raised_to_power_of_num_plus1(3, 2)) #(3^2)+1.....3 & 2 override 0 as default value"
   ]
  }
 ],
 "metadata": {
  "kernelspec": {
   "display_name": ".venv",
   "language": "python",
   "name": "python3"
  },
  "language_info": {
   "codemirror_mode": {
    "name": "ipython",
    "version": 3
   },
   "file_extension": ".py",
   "mimetype": "text/x-python",
   "name": "python",
   "nbconvert_exporter": "python",
   "pygments_lexer": "ipython3",
   "version": "3.12.10"
  }
 },
 "nbformat": 4,
 "nbformat_minor": 5
}
