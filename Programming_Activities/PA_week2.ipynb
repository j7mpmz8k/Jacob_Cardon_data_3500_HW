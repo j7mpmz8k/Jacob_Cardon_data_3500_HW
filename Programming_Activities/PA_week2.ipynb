{
 "cells": [
  {
   "cell_type": "code",
   "execution_count": null,
   "id": "3b9ea46b",
   "metadata": {},
   "outputs": [],
   "source": [
    "#activity 7\n",
    "multiples = int(5)\n",
    "while multiples <= int(95):\n",
    "    print(multiples)\n",
    "    multiples += int(5)"
   ]
  },
  {
   "cell_type": "code",
   "execution_count": null,
   "id": "1d76f387",
   "metadata": {},
   "outputs": [],
   "source": [
    "#activity 6\n",
    "for i in range(5,95,5):\n",
    "    print(i)"
   ]
  },
  {
   "cell_type": "code",
   "execution_count": 1,
   "id": "b8826a54",
   "metadata": {},
   "outputs": [
    {
     "name": "stdout",
     "output_type": "stream",
     "text": [
      "You were 24 years old in year: 2025\n",
      "You were 23 years old in year: 2024\n",
      "You were 22 years old in year: 2023\n",
      "You were 21 years old in year: 2022\n",
      "You were 20 years old in year: 2021\n",
      "You were 19 years old in year: 2020\n",
      "You were 18 years old in year: 2019\n",
      "You were 17 years old in year: 2018\n",
      "You were 16 years old in year: 2017\n",
      "You were 15 years old in year: 2016\n",
      "You were 14 years old in year: 2015\n",
      "You were 13 years old in year: 2014\n",
      "You were 12 years old in year: 2013\n",
      "You were 11 years old in year: 2012\n",
      "You were 10 years old in year: 2011\n",
      "You were 9 years old in year: 2010\n",
      "You were 8 years old in year: 2009\n",
      "You were 7 years old in year: 2008\n",
      "You were 6 years old in year: 2007\n",
      "You were 5 years old in year: 2006\n",
      "You were 4 years old in year: 2005\n",
      "You were 3 years old in year: 2004\n",
      "You were 2 years old in year: 2003\n"
     ]
    }
   ],
   "source": [
    "#activity 5\n",
    "age = int(input(\"What is your age? \"))\n",
    "current_year = int(2025)\n",
    "calculated_year = current_year\n",
    "while age > 1:\n",
    "    print(\"You were\", age, \"years old in year:\", calculated_year)\n",
    "    age -= 1\n",
    "    calculated_year -= 1"
   ]
  },
  {
   "cell_type": "code",
   "execution_count": null,
   "id": "074738dc",
   "metadata": {},
   "outputs": [],
   "source": [
    "#activity 4\n",
    "birth_year = float(input(\"What year were you born? \"))\n",
    "if birth_year >= 1997:\n",
    "    print(\"You are a Zoomer\")\n",
    "elif birth_year >= 1981:\n",
    "    print(\"You are a Millennial\")\n",
    "elif birth_year >= 1965:\n",
    "    print(\"You are Gen X\")\n",
    "else:\n",
    "    print(\"You are a Baby Boomer\")"
   ]
  },
  {
   "cell_type": "code",
   "execution_count": null,
   "id": "05014058",
   "metadata": {},
   "outputs": [],
   "source": [
    "#activity 3\n",
    "grade = float(input(\"What is your grade in this class? \"))\n",
    "if grade >= 93:\n",
    "    print(\"Congratulations you got an A!\")\n",
    "else:\n",
    "    print(\"Congratulations, you still learned a ton!!!!\")"
   ]
  },
  {
   "cell_type": "code",
   "execution_count": null,
   "id": "e396b00a",
   "metadata": {},
   "outputs": [],
   "source": [
    "#activity 2\n",
    "current_age = int(input(\"What is your current age? \"))\n",
    "desired_age = int(input(\"What age would you like to live to? \"))\n",
    "print(\"You have only\", desired_age-current_age, \"years to live!\")"
   ]
  },
  {
   "cell_type": "code",
   "execution_count": null,
   "id": "ab96597a",
   "metadata": {},
   "outputs": [],
   "source": [
    "#activity 1\n",
    "apple_price = 2.50\n",
    "number_purchased = 12\n",
    "tax = 1.07\n",
    "total_bill = apple_price * number_purchased * tax\n",
    "if total_bill == 0:\n",
    "    print(\"check inputs\")\n",
    "else:\n",
    "    print(\"you purchased:\", number_purchased, \"apples for a total price of:\", \"$\"+str(total_bill))"
   ]
  }
 ],
 "metadata": {
  "kernelspec": {
   "display_name": ".venv",
   "language": "python",
   "name": "python3"
  },
  "language_info": {
   "codemirror_mode": {
    "name": "ipython",
    "version": 3
   },
   "file_extension": ".py",
   "mimetype": "text/x-python",
   "name": "python",
   "nbconvert_exporter": "python",
   "pygments_lexer": "ipython3",
   "version": "3.12.10"
  }
 },
 "nbformat": 4,
 "nbformat_minor": 5
}
