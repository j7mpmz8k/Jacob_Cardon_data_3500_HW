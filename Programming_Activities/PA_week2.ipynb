{
 "cells": [
  {
   "cell_type": "code",
   "execution_count": null,
   "id": "3b9ea46b",
   "metadata": {},
   "outputs": [],
   "source": [
    "#activity 7\n",
    "multiples = int(5)\n",
    "while multiples <= int(95):\n",
    "    print(multiples)\n",
    "    multiples += int(5)"
   ]
  },
  {
   "cell_type": "code",
   "execution_count": null,
   "id": "1d76f387",
   "metadata": {},
   "outputs": [],
   "source": [
    "#activity 6\n",
    "for i in range(5,95,5):\n",
    "    print(i)"
   ]
  },
  {
   "cell_type": "code",
   "execution_count": null,
   "id": "b8826a54",
   "metadata": {},
   "outputs": [],
   "source": [
    "#activity 5\n",
    "age = int(input(\"What is your age? \"))\n",
    "current_year = int(2025)\n",
    "calculated_year = current_year\n",
    "while age > 1:\n",
    "    print(\"You were\", age, \"years old in year:\", calculated_year)\n",
    "    age -= 1\n",
    "    calculated_year -= 1"
   ]
  },
  {
   "cell_type": "code",
   "execution_count": null,
   "id": "074738dc",
   "metadata": {},
   "outputs": [],
   "source": [
    "#activity 4\n",
    "birth_year = float(input(\"What year were you born? \"))\n",
    "if birth_year >= 1997:\n",
    "    print(\"You are a Zoomer\")\n",
    "elif birth_year >= 1981:\n",
    "    print(\"You are a Millennial\")\n",
    "elif birth_year >= 1965:\n",
    "    print(\"You are Gen X\")\n",
    "else:\n",
    "    print(\"You are a Baby Boomer\")"
   ]
  },
  {
   "cell_type": "code",
   "execution_count": null,
   "id": "05014058",
   "metadata": {},
   "outputs": [],
   "source": [
    "#activity 3\n",
    "grade = float(input(\"What is your grade in this class? \"))\n",
    "if grade >= 93:\n",
    "    print(\"Congratulations you got an A!\")\n",
    "else:\n",
    "    print(\"Congratulations, you still learned a ton!!!!\")"
   ]
  },
  {
   "cell_type": "code",
   "execution_count": null,
   "id": "e396b00a",
   "metadata": {},
   "outputs": [],
   "source": [
    "#activity 2\n",
    "current_age = int(input(\"What is your current age? \"))\n",
    "desired_age = int(input(\"What age would you like to live to? \"))\n",
    "print(\"You have only\", desired_age-current_age, \"years to live!\")"
   ]
  },
  {
   "cell_type": "code",
   "execution_count": null,
   "id": "ab96597a",
   "metadata": {},
   "outputs": [],
   "source": [
    "#activity 1\n",
    "apple_price = 2.50\n",
    "number_purchased = 12\n",
    "tax = 1.07\n",
    "total_bill = apple_price * number_purchased * tax\n",
    "if total_bill == 0:\n",
    "    print(\"check inputs\")\n",
    "else:\n",
    "    print(\"you purchased:\", number_purchased, \"apples for a total price of:\", \"$\"+str(total_bill))"
   ]
  }
 ],
 "metadata": {
  "kernelspec": {
   "display_name": "Python 3",
   "language": "python",
   "name": "python3"
  },
  "language_info": {
   "codemirror_mode": {
    "name": "ipython",
    "version": 3
   },
   "file_extension": ".py",
   "mimetype": "text/x-python",
   "name": "python",
   "nbconvert_exporter": "python",
   "pygments_lexer": "ipython3",
   "version": "3.12.10"
  }
 },
 "nbformat": 4,
 "nbformat_minor": 5
}
