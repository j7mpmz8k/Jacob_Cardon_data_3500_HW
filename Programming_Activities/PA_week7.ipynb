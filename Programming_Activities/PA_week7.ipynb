{
 "cells": [
  {
   "cell_type": "code",
   "execution_count": null,
   "id": "77e30903",
   "metadata": {},
   "outputs": [
    {
     "name": "stdout",
     "output_type": "stream",
     "text": [
      "cheese score: 1326\n"
     ]
    }
   ],
   "source": [
    "#activity 1\n",
    "\n",
    "import json\n",
    "import requests\n",
    "\n",
    "req = requests.get('https://api.datamuse.com/words?rel_trg=cow')\n",
    "lst_of_dict = json.loads(req.text)\n",
    "\n",
    "for dictionary in lst_of_dict:\n",
    "    if dictionary['word'] == \"cheese\":\n",
    "        print(f'{dictionary['word']} score: {dictionary['score']}')"
   ]
  }
 ],
 "metadata": {
  "kernelspec": {
   "display_name": ".venv",
   "language": "python",
   "name": "python3"
  },
  "language_info": {
   "codemirror_mode": {
    "name": "ipython",
    "version": 3
   },
   "file_extension": ".py",
   "mimetype": "text/x-python",
   "name": "python",
   "nbconvert_exporter": "python",
   "pygments_lexer": "ipython3",
   "version": "3.12.11"
  }
 },
 "nbformat": 4,
 "nbformat_minor": 5
}
