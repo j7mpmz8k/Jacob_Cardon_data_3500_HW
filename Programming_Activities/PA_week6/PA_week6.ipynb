{
 "cells": [
  {
   "cell_type": "code",
   "execution_count": null,
   "id": "37ec877a",
   "metadata": {},
   "outputs": [
    {
     "name": "stdout",
     "output_type": "stream",
     "text": [
      "1/2 = 0.5\n"
     ]
    }
   ],
   "source": [
    "'''activity 6'''\n",
    "num1 = int(input(\"Enter a number: \"))\n",
    "num2 = int(input(\"Enter a second number: \"))\n",
    "\n",
    "try:\n",
    "    print(str(num1)+\"/\"+str(num2),\"=\",num1/num2)\n",
    "\n",
    "except:\n",
    "    print(\"Error, ettempted to divide by zero\")"
   ]
  },
  {
   "cell_type": "code",
   "execution_count": 173,
   "id": "33e362c8",
   "metadata": {},
   "outputs": [
    {
     "name": "stdout",
     "output_type": "stream",
     "text": [
      "name Robert Downey Jr.\n",
      "age 60\n",
      "birthday April 4\n"
     ]
    }
   ],
   "source": [
    "'''activity 5'''\n",
    "import json\n",
    "\n",
    "#opens file and initialized to a new variable\n",
    "with open(\"person.json\", \"r\") as old_json:\n",
    "    new_json = json.load(old_json)\n",
    "\n",
    "new_json[\"age\"] += 1\n",
    "\n",
    "#saves new age value to file\n",
    "with open(\"person.json\", \"w\") as old_json:\n",
    "    json.dump(new_json, old_json, indent=1)\n",
    "\n",
    "#prints new values from file\n",
    "with open(\"person.json\", \"r\") as new_json:\n",
    "    new_json = json.load(new_json)\n",
    "    for key in new_json.keys():\n",
    "        print(key, new_json[key])"
   ]
  },
  {
   "cell_type": "code",
   "execution_count": null,
   "id": "e43c38ff",
   "metadata": {},
   "outputs": [
    {
     "name": "stdout",
     "output_type": "stream",
     "text": [
      "age = 25\n",
      "favorite color = blue\n",
      "multiplication table = [[1, 2, 3, 4, 5, 6, 7], [2, 4, 6, 8, 10, 12, 14], [3, 6, 9, 12, 15, 18, 21], [4, 8, 12, 16, 20, 24, 28], [5, 10, 15, 20, 25, 30, 35]]\n"
     ]
    }
   ],
   "source": [
    "'''activity 4'''\n",
    "multiplication_table = [[1, 2, 3, 4, 5, 6, 7], [2, 4, 6, 8, 10, 12, 14], [3, 6, 9, 12, 15, 18, 21], [4, 8, 12, 16, 20, 24, 28], [5, 10, 15, 20, 25, 30, 35]]\n",
    "\n",
    "dictionary = {}\n",
    "dictionary[\"age\"] = int(input(\"Enter your age: \"))\n",
    "dictionary[\"favorite color\"] = input(\"Enter your favorite color: \")\n",
    "dictionary[\"multiplication table\"] = multiplication_table\n",
    "\n",
    "#prints out dictionary keys and values\n",
    "for key in dictionary.keys():\n",
    "    print(key,\"=\",dictionary[key])"
   ]
  },
  {
   "cell_type": "code",
   "execution_count": null,
   "id": "844fdc5b",
   "metadata": {},
   "outputs": [
    {
     "name": "stdout",
     "output_type": "stream",
     "text": [
      "1\t2\t3\t4\t5\t6\t7\t\n",
      "2\t4\t6\t8\t10\t12\t14\t\n",
      "3\t6\t9\t12\t15\t18\t21\t\n"
     ]
    }
   ],
   "source": [
    "'''activity 3'''\n",
    "num1 = int(input(\"Enter a number to find multiplication tables of: \"))\n",
    "num2 = int(input(\"Enter a number to find multiples of first number: \"))\n",
    "\n",
    "list2d = []\n",
    "\n",
    "for num_to_multiply_by in range(1,num1+1):\n",
    "    row = []\n",
    "    for nums_1_through_num2 in range(1,num2+1):\n",
    "        col = nums_1_through_num2*num_to_multiply_by\n",
    "        row.append(col)\n",
    "    list2d.append(row)\n",
    "# listcomprehension = [[row*col for col in range(1,num2+1)] for row in range(1,num1+1)]\n",
    "\n",
    "\n",
    "#prints out multiplication tables\n",
    "for row in list2d:\n",
    "    for col in row:\n",
    "        print(col, end=\"\\t\")\n",
    "    print()"
   ]
  },
  {
   "cell_type": "code",
   "execution_count": null,
   "id": "ca30764d",
   "metadata": {},
   "outputs": [
    {
     "name": "stdout",
     "output_type": "stream",
     "text": [
      "address: \"123 main\" is valid: True\n"
     ]
    }
   ],
   "source": [
    "'''activity 2'''\n",
    "\n",
    "address = input(\"Enter an address: \")\n",
    "temp_address = address.strip().replace(\" \",\"\").replace(\".\",\"\").replace(\",\",\"\")\n",
    "print(\"address:\", '\"'+address+'\"', \"is valid:\", temp_address.isalnum())"
   ]
  },
  {
   "cell_type": "code",
   "execution_count": 21,
   "id": "7a8cb59e",
   "metadata": {},
   "outputs": [
    {
     "name": "stdout",
     "output_type": "stream",
     "text": [
      "My favorite colors are: blue, white, red\n"
     ]
    }
   ],
   "source": [
    "'''activity 1'''\n",
    "\n",
    "favorite_colors = [\"blue\", \"white\", \"red\"]\n",
    "color_phrase = \"My favorite colors are:\"\n",
    "color_phrase += \" \"+\", \".join(favorite_colors)\n",
    "print(color_phrase)"
   ]
  }
 ],
 "metadata": {
  "kernelspec": {
   "display_name": ".venv",
   "language": "python",
   "name": "python3"
  },
  "language_info": {
   "codemirror_mode": {
    "name": "ipython",
    "version": 3
   },
   "file_extension": ".py",
   "mimetype": "text/x-python",
   "name": "python",
   "nbconvert_exporter": "python",
   "pygments_lexer": "ipython3",
   "version": "3.12.10"
  }
 },
 "nbformat": 4,
 "nbformat_minor": 5
}
