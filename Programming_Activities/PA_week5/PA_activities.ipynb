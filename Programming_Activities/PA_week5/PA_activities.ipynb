{
 "cells": [
  {
   "cell_type": "code",
   "execution_count": null,
   "id": "0bc49d15",
   "metadata": {},
   "outputs": [],
   "source": [
    "'''activity 1'''\n",
    "name = input(\"What is your name: \")\n",
    "color = input(\"What is your favorite color? \")\n",
    "with open(\"PA_1_output.txt\", \"w\") as name_and_color:\n",
    "    name_and_color.write(name+\"'s favorite color is: \"+color)\n",
    "    print(\"File saved and exported\")"
   ]
  },
  {
   "cell_type": "code",
   "execution_count": 8,
   "id": "195600d2",
   "metadata": {},
   "outputs": [
    {
     "name": "stdout",
     "output_type": "stream",
     "text": [
      "100 zeros:\n",
      " [0. 0. 0. 0. 0. 0. 0. 0. 0. 0. 0. 0. 0. 0. 0. 0. 0. 0. 0. 0. 0. 0. 0. 0.\n",
      " 0. 0. 0. 0. 0. 0. 0. 0. 0. 0. 0. 0. 0. 0. 0. 0. 0. 0. 0. 0. 0. 0. 0. 0.\n",
      " 0. 0. 0. 0. 0. 0. 0. 0. 0. 0. 0. 0. 0. 0. 0. 0. 0. 0. 0. 0. 0. 0. 0. 0.\n",
      " 0. 0. 0. 0. 0. 0. 0. 0. 0. 0. 0. 0. 0. 0. 0. 0. 0. 0. 0. 0. 0. 0. 0. 0.\n",
      " 0. 0. 0. 0.]\n",
      "\n",
      "100 random #'s:\n",
      " [ 5 15 40 57 63 77 93 19  9 28 11 17 72 58 38 57  1 62 56  3 95 71 50 56\n",
      " 26 58 53 62 18 55  3 77 57 60 62 89 37 73 39 88 34 90 52 40 77 95  3 56\n",
      "  0 63 28 11 16 15 39 52 47 24 14 10 64 15 62 86 49 17 15 97 34 39  8 62\n",
      " 45 27 70  2 62 88 82  1 53 28 68 76 78 54 31  9 75  8 88 88 51  0 55 19\n",
      "  5 31 57 32]\n"
     ]
    }
   ],
   "source": [
    "'''activity 2'''\n",
    "import numpy as np\n",
    "array_of_nums = np.zeros(100)\n",
    "print(\"100 zeros:\\n\", array_of_nums)\n",
    "print()\n",
    "array_of_nums = np.random.randint(100, size=100)\n",
    "print(\"100 random #'s:\\n\",array_of_nums)"
   ]
  }
 ],
 "metadata": {
  "kernelspec": {
   "display_name": ".venv",
   "language": "python",
   "name": "python3"
  },
  "language_info": {
   "codemirror_mode": {
    "name": "ipython",
    "version": 3
   },
   "file_extension": ".py",
   "mimetype": "text/x-python",
   "name": "python",
   "nbconvert_exporter": "python",
   "pygments_lexer": "ipython3",
   "version": "3.12.10"
  }
 },
 "nbformat": 4,
 "nbformat_minor": 5
}
