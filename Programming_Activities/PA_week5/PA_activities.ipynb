{
 "cells": [
  {
   "cell_type": "code",
   "execution_count": null,
   "id": "56857f2c",
   "metadata": {},
   "outputs": [],
   "source": [
    "'''activity 4'''\n",
    "import random\n",
    "\n",
    "def random_case(s):\n",
    "    \"\"\"Converts a string to have random upper and lower case letters.\"\"\"\n",
    "    return \"\".join(random.choice([char.upper(), char.lower()]) for char in s)\n",
    "\n",
    "first_names = [\"Alice\", \"Bob\", \"Charlie\", \"David\", \"Eve\", \"Frank\", \"Grace\", \"Heidi\", \"Ivan\", \"Judy\"]\n",
    "last_names = [\"Smith\", \"Jones\", \"Williams\", \"Brown\", \"Davis\", \"Miller\", \"Wilson\", \"Moore\", \"Taylor\", \"Anderson\"]\n",
    "\n",
    "random_names = []\n",
    "for _ in range(10):\n",
    "    first = random.choice(first_names)\n",
    "    last = random.choice(last_names)\n",
    "    random_names.append(f\"{random_case(first)} {random_case(last)}\")\n",
    "\n",
    "for name in random_names:\n",
    "    random_names.append(name)"
   ]
  },
  {
   "cell_type": "code",
   "execution_count": 3,
   "id": "a7cfc828",
   "metadata": {},
   "outputs": [
    {
     "name": "stdout",
     "output_type": "stream",
     "text": [
      "even numbers: [2, 3, 4, 5, 6, 7, 8, 9, 10, 11, 12, 13, 14, 15, 16, 17, 18, 19, 20, 21, 22, 23, 24, 25, 26, 27, 28, 29, 30, 31, 32, 33, 34, 35, 36, 37, 38, 39, 40, 41, 42, 43, 44, 45, 46, 47, 48, 49, 50, 51, 52, 53, 54, 55, 56, 57, 58, 59, 60, 61, 62, 63, 64, 65, 66, 67, 68, 69, 70, 71, 72, 73, 74, 75, 76, 77, 78, 79, 80, 81, 82, 83, 84, 85, 86, 87, 88, 89, 90, 91, 92, 93, 94, 95, 96, 97, 98, 99, 100]\n"
     ]
    }
   ],
   "source": [
    "'''activity 3'''\n",
    "even_num_list = [even_num for even_num in range(2,101,1)]\n",
    "print(\"even numbers:\",even_num_list)"
   ]
  },
  {
   "cell_type": "code",
   "execution_count": 24,
   "id": "195600d2",
   "metadata": {},
   "outputs": [
    {
     "name": "stdout",
     "output_type": "stream",
     "text": [
      "100 zeros:\n",
      " [0. 0. 0. 0. 0. 0. 0. 0. 0. 0. 0. 0. 0. 0. 0. 0. 0. 0. 0. 0. 0. 0. 0. 0.\n",
      " 0. 0. 0. 0. 0. 0. 0. 0. 0. 0. 0. 0. 0. 0. 0. 0. 0. 0. 0. 0. 0. 0. 0. 0.\n",
      " 0. 0. 0. 0. 0. 0. 0. 0. 0. 0. 0. 0. 0. 0. 0. 0. 0. 0. 0. 0. 0. 0. 0. 0.\n",
      " 0. 0. 0. 0. 0. 0. 0. 0. 0. 0. 0. 0. 0. 0. 0. 0. 0. 0. 0. 0. 0. 0. 0. 0.\n",
      " 0. 0. 0. 0.]\n",
      "\n",
      "100 random #'s:\n",
      " [76 44 83 85 17 95 75 48 18 56 81 60 35  4 87  4 32  8 53 75 90 91 62 64\n",
      " 32 85 81 85 32 33 28 79 69 58 17 28 38 26 79 89 28 90 58 38 52 54 86 54\n",
      " 79 93 49 61 15 60 87 49 10 53 63  1 82 40 67 13 61 23  8 49 62 42 16 28\n",
      " 56  1 99 90 83 18  4 57 25  1 41 63 54 54 35 94 87 45 98 35 43 56 71 45\n",
      " 81 81 21 33]\n"
     ]
    }
   ],
   "source": [
    "'''activity 2'''\n",
    "import numpy as np\n",
    "array_of_nums = np.zeros(100)\n",
    "print(\"100 zeros:\\n\", array_of_nums)\n",
    "print()\n",
    "array_of_nums = np.random.randint(100, size=100)\n",
    "print(\"100 random #'s:\\n\",array_of_nums)"
   ]
  },
  {
   "cell_type": "code",
   "execution_count": null,
   "id": "0bc49d15",
   "metadata": {},
   "outputs": [],
   "source": [
    "'''activity 1'''\n",
    "#writes to file with name and fav color\n",
    "name = input(\"What is your name: \")\n",
    "color = input(\"What is your favorite color? \")\n",
    "with open(\"PA_1_output.txt\", \"w\") as name_and_color:\n",
    "    name_and_color.write(name+\"'s favorite color is: \"+color)\n",
    "    print(\"File saved and exported\")"
   ]
  }
 ],
 "metadata": {
  "kernelspec": {
   "display_name": ".venv",
   "language": "python",
   "name": "python3"
  },
  "language_info": {
   "codemirror_mode": {
    "name": "ipython",
    "version": 3
   },
   "file_extension": ".py",
   "mimetype": "text/x-python",
   "name": "python",
   "nbconvert_exporter": "python",
   "pygments_lexer": "ipython3",
   "version": "3.12.10"
  }
 },
 "nbformat": 4,
 "nbformat_minor": 5
}
