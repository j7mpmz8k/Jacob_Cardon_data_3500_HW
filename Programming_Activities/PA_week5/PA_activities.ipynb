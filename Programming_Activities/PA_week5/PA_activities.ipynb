{
 "cells": [
  {
   "cell_type": "code",
   "execution_count": 10,
   "id": "0bc49d15",
   "metadata": {},
   "outputs": [],
   "source": [
    "'''activity 1'''\n",
    "name = input(\"What is your name: \")\n",
    "color = input(\"What is your favorite color? \")\n",
    "with open(\"PA_week5.1.txt\", \"w\") as name_and_color:\n",
    "    name_and_color.write(name+color)"
   ]
  }
 ],
 "metadata": {
  "kernelspec": {
   "display_name": ".venv",
   "language": "python",
   "name": "python3"
  },
  "language_info": {
   "codemirror_mode": {
    "name": "ipython",
    "version": 3
   },
   "file_extension": ".py",
   "mimetype": "text/x-python",
   "name": "python",
   "nbconvert_exporter": "python",
   "pygments_lexer": "ipython3",
   "version": "3.12.10"
  }
 },
 "nbformat": 4,
 "nbformat_minor": 5
}
