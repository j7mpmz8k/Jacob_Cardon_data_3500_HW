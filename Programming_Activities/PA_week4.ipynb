{
 "cells": [
  {
   "cell_type": "code",
   "execution_count": 99,
   "id": "b420a9fc",
   "metadata": {},
   "outputs": [
    {
     "name": "stdout",
     "output_type": "stream",
     "text": [
      "First 4 days: $125.65391725\n",
      "Last 4 day average: $192.83144000000001\n"
     ]
    }
   ],
   "source": [
    "'''activity 5.2'''\n",
    "file = open(\"/home/crostini/Github/Jacob_Cardon_data_3500_HW/Programming_Activities/files/PA5data.txt\")\n",
    "file_lines = file.readlines()\n",
    "complete_price_list = []\n",
    "\n",
    "#converting list to a list of floats\n",
    "for stock_price_local in file_lines:\n",
    "    stock_price_local = float(stock_price_local)\n",
    "    complete_price_list.append(stock_price_local)\n",
    "\n",
    "#calculates average\n",
    "def movingavg_Ndays_Nthstartingday(set_of_numbers, days=None, first=True):# syntax(list of numbers, numbers of days to average, counting from first or last)\n",
    "    if days == None:\n",
    "        days = int(len(set_of_numbers))#if no days are input represented by 'None', then every day becomes default\n",
    "    if first == False:\n",
    "        extracted_days = set_of_numbers[-days:]\n",
    "        first_or_last = \"Last\"\n",
    "    else:\n",
    "        extracted_days = set_of_numbers[:days]\n",
    "        first_or_last = \"First\"\n",
    "    number_of_days_local = int(len(extracted_days))\n",
    "    return sum(extracted_days)/number_of_days_local, number_of_days_local, first_or_last# reports average & number of days...this method is becuase defined functions can't update global variables\n",
    "\n",
    "#calculates which index position to find last set of number from list of stock prices...used as the third syntax in 'movingavg_Ndays_Nthstartingday'\n",
    "def last_numbers(numbers):\n",
    "    return int(len(complete_price_list))-numbers+1\n",
    "\n",
    "\n",
    "Nth_day_avg, Nth_number_of_days, first_or_last = movingavg_Ndays_Nthstartingday(complete_price_list, 4)# extracts avg & num of days into seperate variables from defined function\n",
    "print(first_or_last,Nth_number_of_days,\"days:\", \"$\"+str(Nth_day_avg))\n",
    "\n",
    "Nth_day_avg, Nth_number_of_days, first_or_last = movingavg_Ndays_Nthstartingday(complete_price_list, 4, False)# re-updates avg & num of days\n",
    "print(first_or_last, Nth_number_of_days, \"day average:\", \"$\"+str(Nth_day_avg))"
   ]
  },
  {
   "cell_type": "code",
   "execution_count": 75,
   "id": "21eb9661",
   "metadata": {},
   "outputs": [
    {
     "name": "stdout",
     "output_type": "stream",
     "text": [
      "total average of all 250 days: $171.901758092\n",
      "first 4 day average: $125.65391725\n"
     ]
    }
   ],
   "source": [
    "'''activity 5'''\n",
    "file = open(\"/home/crostini/Github/Jacob_Cardon_data_3500_HW/Programming_Activities/files/PA5data.txt\")\n",
    "file_lines = file.readlines()\n",
    "complete_price_list = []\n",
    "\n",
    "#converting list to a list of floats\n",
    "for stock_price_local in file_lines:\n",
    "    stock_price_local = float(stock_price_local)\n",
    "    complete_price_list.append(stock_price_local)\n",
    "\n",
    "#calculates average\n",
    "def movingavg_Ndays_Nthstartingday(set_of_numbers, days=None, starting_day=1):\n",
    "    if days == None:\n",
    "        days = int(len(set_of_numbers))#if no days are input represented by 'None', then every day becomes default\n",
    "    extracted_days = set_of_numbers[starting_day-1:days+starting_day-1]\n",
    "    number_of_days_local = int(len(extracted_days))\n",
    "    return sum(extracted_days)/number_of_days_local, number_of_days_local# reports average & number of days...this method is becuase defined functions can't update global variables\n",
    "\n",
    "\n",
    "Nth_day_avg, Nth_number_of_days = movingavg_Ndays_Nthstartingday(complete_price_list)# extracts avg & num of days into seperate variables from defined function\n",
    "print(\"total average of all\",Nth_number_of_days,\"days:\", \"$\"+str(Nth_day_avg))\n",
    "\n",
    "Nth_day_avg, Nth_number_of_days = movingavg_Ndays_Nthstartingday(complete_price_list, 4)# re-updates avg & num of days\n",
    "print(\"first\", Nth_number_of_days, \"day average:\", \"$\"+str(Nth_day_avg))\n",
    "\n",
    "# Nth_number_of_days = int((((Nth_number_of_days-int(len(complete_price_list)))**2)**.5))"
   ]
  },
  {
   "cell_type": "code",
   "execution_count": 54,
   "id": "2d7f8b90",
   "metadata": {},
   "outputs": [
    {
     "name": "stdout",
     "output_type": "stream",
     "text": [
      "list of 10 random numbers:\n",
      "[75, 93, 16, 85, 52, 54, 60, 0, 2, 48] \n",
      "\n",
      "54 & 52 are even!\n",
      "60 & 54 are even!\n",
      "0 & 60 are even!\n",
      "2 & 0 are even!\n",
      "48 & 2 are even!\n"
     ]
    }
   ],
   "source": [
    "#activity 4\n",
    "random_list = []\n",
    "import random\n",
    "for i in range(0,10):\n",
    "    random_list.append(random.randint(0,100))\n",
    "print(\"list of 10 random numbers:\\n\"+str(random_list), \"\\n\")\n",
    " \n",
    "for index in range(len(random_list)):\n",
    "    if random_list[index]%2 == 0 and random_list[index-1]%2 == 0:\n",
    "        print(random_list[index], \"&\", random_list[index-1], \"are even!\")"
   ]
  },
  {
   "cell_type": "code",
   "execution_count": 55,
   "id": "e437452e",
   "metadata": {},
   "outputs": [
    {
     "name": "stdout",
     "output_type": "stream",
     "text": [
      "[10, 10, 3, 4, 3, 6, 8, 8, 9, 0, 9]\n"
     ]
    }
   ],
   "source": [
    "#activity 3\n",
    "random_list = []\n",
    "import random\n",
    "for i in range(11):\n",
    "    random_list.append(random.randint(0,10))\n",
    "print(random_list)"
   ]
  },
  {
   "cell_type": "code",
   "execution_count": 58,
   "id": "f25a2e8f",
   "metadata": {},
   "outputs": [
    {
     "name": "stdout",
     "output_type": "stream",
     "text": [
      "red\n",
      "r\n",
      "e\n",
      "d\n",
      "blue\n",
      "b\n",
      "l\n",
      "u\n",
      "e\n"
     ]
    }
   ],
   "source": [
    "#acitivity 2\n",
    "colors = [\"red\", \"blue\"]\n",
    "for color in colors:\n",
    "    print(color)\n",
    "    for letter in color:\n",
    "        print(letter)"
   ]
  },
  {
   "cell_type": "code",
   "execution_count": 57,
   "id": "15687596",
   "metadata": {},
   "outputs": [
    {
     "name": "stdout",
     "output_type": "stream",
     "text": [
      "red\n",
      "blue\n",
      "green\n",
      "purple\n"
     ]
    }
   ],
   "source": [
    "#activity 1\n",
    "colors = [\"red\", \"blue\", \"green\", \"purple\"]\n",
    "for i in colors:\n",
    "    print(i)"
   ]
  }
 ],
 "metadata": {
  "kernelspec": {
   "display_name": "Python 3",
   "language": "python",
   "name": "python3"
  },
  "language_info": {
   "codemirror_mode": {
    "name": "ipython",
    "version": 3
   },
   "file_extension": ".py",
   "mimetype": "text/x-python",
   "name": "python",
   "nbconvert_exporter": "python",
   "pygments_lexer": "ipython3",
   "version": "3.12.10"
  }
 },
 "nbformat": 4,
 "nbformat_minor": 5
}
