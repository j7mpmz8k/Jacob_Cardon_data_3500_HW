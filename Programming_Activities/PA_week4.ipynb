{
 "cells": [
  {
   "cell_type": "code",
   "execution_count": 104,
   "id": "b420a9fc",
   "metadata": {},
   "outputs": [
    {
     "name": "stdout",
     "output_type": "stream",
     "text": [
      "First 4 days: $125.65391725\n",
      "Last 4 day average: $192.83144000000001\n",
      "\n",
      "Buying at: \t 134.34668\n",
      "Selling at: \t 136.928925\n",
      "Trade profit: \t 2.5822450000000003\n",
      "Buying at: \t 142.023926\n",
      "Selling at: \t 144.437317\n",
      "Trade profit: \t 2.4133910000000185\n",
      "Buying at: \t 150.883026\n",
      "Selling at: \t 153.033157\n",
      "Trade profit: \t 2.1501309999999876\n",
      "Buying at: \t 152.893906\n",
      "Selling at: \t 150.228119\n",
      "Trade profit: \t -2.6657869999999946\n",
      "Buying at: \t 149.790466\n",
      "Selling at: \t 151.779831\n",
      "Trade profit: \t 1.9893649999999923\n",
      "Buying at: \t 157.439636\n",
      "Selling at: \t 159.916428\n",
      "Trade profit: \t 2.476791999999989\n",
      "Buying at: \t 162.890533\n",
      "Selling at: \t 164.680969\n",
      "Trade profit: \t 1.7904359999999997\n",
      "Buying at: \t 164.14386\n",
      "Selling at: \t 167.515854\n",
      "Trade profit: \t 3.371994000000001\n",
      "Buying at: \t 167.645157\n",
      "Selling at: \t 172.648468\n",
      "Trade profit: \t 5.0033109999999965\n",
      "Buying at: \t 171.89119\n",
      "Selling at: \t 172.010727\n",
      "Trade profit: \t 0.11953700000000822\n",
      "Buying at: \t 173.514786\n",
      "Selling at: \t 172.30954\n",
      "Trade profit: \t -1.2052459999999883\n",
      "Buying at: \t 178.505096\n",
      "Selling at: \t 179.859726\n",
      "Trade profit: \t 1.354629999999986\n",
      "Buying at: \t 183.236389\n",
      "Selling at: \t 186.264435\n",
      "Trade profit: \t 3.028045999999989\n",
      "Buying at: \t 184.541245\n",
      "Selling at: \t 187.320251\n",
      "Trade profit: \t 2.7790060000000096\n",
      "Buying at: \t 190.577408\n",
      "Selling at: \t 189.023544\n",
      "Trade profit: \t -1.5538640000000044\n",
      "Buying at: \t 192.370331\n",
      "Selling at: \t 192.858398\n",
      "Trade profit: \t 0.4880670000000009\n",
      "Buying at: \t 192.459961\n",
      "Selling at: \t 195.059708\n",
      "Trade profit: \t 2.599747000000008\n",
      "Buying at: \t 191.822479\n",
      "Selling at: \t 178.995499\n",
      "Trade profit: \t -12.826979999999992\n",
      "Buying at: \t 176.990677\n",
      "Selling at: \t 175.384842\n",
      "Trade profit: \t -1.6058350000000132\n",
      "Buying at: \t 175.923462\n",
      "Selling at: \t 178.14769\n",
      "Trade profit: \t 2.2242280000000108\n",
      "Buying at: \t 182.436539\n",
      "Selling at: \t 177.509338\n",
      "Trade profit: \t -4.927200999999997\n",
      "Buying at: \t 175.035751\n",
      "Selling at: \t 175.624237\n",
      "Trade profit: \t 0.588485999999989\n",
      "Buying at: \t 171.514893\n",
      "Selling at: \t 170.766846\n",
      "Trade profit: \t -0.7480470000000139\n",
      "Buying at: \t 178.38707\n",
      "Selling at: \t 169.849197\n",
      "Trade profit: \t -8.53787299999999\n",
      "Buying at: \t 189.727905\n",
      "Selling at: \t 190.157349\n",
      "Trade profit: \t 0.4294440000000179\n",
      "Buying at: \t 189.128662\n",
      "Selling at: \t 189.707916\n",
      "Trade profit: \t 0.5792540000000201\n",
      "Buying at: \t 189.188583\n",
      "Selling at: \t 193.173508\n",
      "Trade profit: \t 3.984925000000004\n",
      "Buying at: \t 192.933807\n",
      "Selling at: \t 194.461868\n",
      "Trade profit: \t 1.528061000000008\n",
      "Buying at: \t 195.64035\n",
      "Selling at: \t 193.333298\n",
      "Trade profit: \t -2.3070519999999988\n",
      "Buying at: \t 192.284637\n",
      "total_profit: \t 5.103211000000044\n"
     ]
    }
   ],
   "source": [
    "'''activity 5.2'''\n",
    "file = open(\"/home/crostini/Github/Jacob_Cardon_data_3500_HW/Programming_Activities/files/PA5data.txt\")\n",
    "file_lines = file.readlines()\n",
    "complete_price_list = []\n",
    "\n",
    "#converting list to a list of floats\n",
    "for stock_price_local in file_lines:\n",
    "    stock_price_local = float(stock_price_local)\n",
    "    complete_price_list.append(stock_price_local)\n",
    "\n",
    "#calculates average\n",
    "def movingavg_Ndays_Nthstartingday(set_of_numbers, days=None, first=True):# syntax(list of numbers, numbers of days to average, counting from first or last)\n",
    "    if days == None:\n",
    "        days = int(len(set_of_numbers))#if no days are input represented by 'None', then every day becomes default\n",
    "    if first == False:\n",
    "        extracted_days = set_of_numbers[-days:]\n",
    "        first_or_last = \"Last\"\n",
    "    else:\n",
    "        extracted_days = set_of_numbers[:days]\n",
    "        first_or_last = \"First\"\n",
    "    number_of_days_local = int(len(extracted_days))\n",
    "    return sum(extracted_days)/number_of_days_local, number_of_days_local, first_or_last# reports average & number of days...this method is becuase defined functions can't update global variables\n",
    "\n",
    "#calculates which index position to find last set of number from list of stock complete_price_list...used as the third syntax in 'movingavg_Ndays_Nthstartingday'\n",
    "def last_numbers(numbers):\n",
    "    return int(len(complete_price_list))-numbers+1\n",
    "\n",
    "\n",
    "Nth_day_avg, Nth_number_of_days, first_or_last = movingavg_Ndays_Nthstartingday(complete_price_list, 4)# extracts avg & num of days into seperate variables from defined function\n",
    "print(first_or_last,Nth_number_of_days,\"days:\", \"$\"+str(Nth_day_avg))\n",
    "\n",
    "Nth_day_avg, Nth_number_of_days, first_or_last = movingavg_Ndays_Nthstartingday(complete_price_list, 4, False)# re-updates avg & num of days\n",
    "print(first_or_last, Nth_number_of_days, \"day average:\", \"$\"+str(Nth_day_avg))\n",
    "\n",
    "print()\n",
    "\n",
    "# set up iterator values and trading variables\n",
    "day_number = 0\n",
    "buy = 0\n",
    "total_profit = 0\n",
    "\n",
    "# loop through complete_price_list\n",
    "for price in complete_price_list:\n",
    "    if day_number >= 4: # only begin 4 day average once there are 4 days to backtrack to\n",
    "        avg = (complete_price_list[day_number] + complete_price_list[day_number - 1] + complete_price_list[day_number - 2] + complete_price_list[day_number - 3]) / 4\n",
    "        if price < avg and buy == 0: # buy conditions\n",
    "            buy = price\n",
    "            print(\"Buying at:\", \"\\t\", price)\n",
    "        elif price > avg and buy != 0: # sell conditions\n",
    "            trade_profit = price - buy\n",
    "            print(\"Selling at:\", \"\\t\", price)\n",
    "            print(\"Trade profit:\", \"\\t\", trade_profit)\n",
    "            total_profit += trade_profit\n",
    "            buy = 0\n",
    "            \n",
    "    day_number += 1\n",
    "   \n",
    "print(\"total_profit:\", \"\\t\", total_profit)"
   ]
  },
  {
   "cell_type": "code",
   "execution_count": 103,
   "id": "21eb9661",
   "metadata": {},
   "outputs": [
    {
     "name": "stdout",
     "output_type": "stream",
     "text": [
      "total average of all 250 days: $171.901758092\n",
      "first 4 day average: $125.65391725\n"
     ]
    }
   ],
   "source": [
    "'''activity 5'''\n",
    "file = open(\"/home/crostini/Github/Jacob_Cardon_data_3500_HW/Programming_Activities/files/PA5data.txt\")\n",
    "file_lines = file.readlines()\n",
    "complete_price_list = []\n",
    "\n",
    "#converting list to a list of floats\n",
    "for stock_price_local in file_lines:\n",
    "    stock_price_local = float(stock_price_local)\n",
    "    complete_price_list.append(stock_price_local)\n",
    "\n",
    "#calculates average\n",
    "def movingavg_Ndays_Nthstartingday(set_of_numbers, days=None, starting_day=1):\n",
    "    if days == None:\n",
    "        days = int(len(set_of_numbers))#if no days are input represented by 'None', then every day becomes default\n",
    "    extracted_days = set_of_numbers[starting_day-1:days+starting_day-1]\n",
    "    number_of_days_local = int(len(extracted_days))\n",
    "    return sum(extracted_days)/number_of_days_local, number_of_days_local# reports average & number of days...this method is becuase defined functions can't update global variables\n",
    "\n",
    "\n",
    "Nth_day_avg, Nth_number_of_days = movingavg_Ndays_Nthstartingday(complete_price_list)# extracts avg & num of days into seperate variables from defined function\n",
    "print(\"total average of all\",Nth_number_of_days,\"days:\", \"$\"+str(Nth_day_avg))\n",
    "\n",
    "Nth_day_avg, Nth_number_of_days = movingavg_Ndays_Nthstartingday(complete_price_list, 4)# re-updates avg & num of days\n",
    "print(\"first\", Nth_number_of_days, \"day average:\", \"$\"+str(Nth_day_avg))"
   ]
  },
  {
   "cell_type": "code",
   "execution_count": 105,
   "id": "2d7f8b90",
   "metadata": {},
   "outputs": [
    {
     "name": "stdout",
     "output_type": "stream",
     "text": [
      "list of 10 random numbers:\n",
      "[86, 15, 52, 97, 37, 52, 88, 17, 78, 27] \n",
      "\n",
      "88 & 52 are even!\n"
     ]
    }
   ],
   "source": [
    "#activity 4\n",
    "random_list = []\n",
    "import random\n",
    "for i in range(0,10):\n",
    "    random_list.append(random.randint(0,100))\n",
    "print(\"list of 10 random numbers:\\n\"+str(random_list), \"\\n\")\n",
    " \n",
    "for index in range(len(random_list)):\n",
    "    if random_list[index]%2 == 0 and random_list[index-1]%2 == 0:\n",
    "        print(random_list[index], \"&\", random_list[index-1], \"are even!\")"
   ]
  },
  {
   "cell_type": "code",
   "execution_count": 106,
   "id": "e437452e",
   "metadata": {},
   "outputs": [
    {
     "name": "stdout",
     "output_type": "stream",
     "text": [
      "[4, 5, 7, 10, 0, 6, 0, 1, 9, 3, 7]\n"
     ]
    }
   ],
   "source": [
    "#activity 3\n",
    "random_list = []\n",
    "import random\n",
    "for i in range(11):\n",
    "    random_list.append(random.randint(0,10))\n",
    "print(random_list)"
   ]
  },
  {
   "cell_type": "code",
   "execution_count": 107,
   "id": "f25a2e8f",
   "metadata": {},
   "outputs": [
    {
     "name": "stdout",
     "output_type": "stream",
     "text": [
      "red\n",
      "r\n",
      "e\n",
      "d\n",
      "blue\n",
      "b\n",
      "l\n",
      "u\n",
      "e\n"
     ]
    }
   ],
   "source": [
    "#acitivity 2\n",
    "colors = [\"red\", \"blue\"]\n",
    "for color in colors:\n",
    "    print(color)\n",
    "    for letter in color:\n",
    "        print(letter)"
   ]
  },
  {
   "cell_type": "code",
   "execution_count": 108,
   "id": "15687596",
   "metadata": {},
   "outputs": [
    {
     "name": "stdout",
     "output_type": "stream",
     "text": [
      "red\n",
      "blue\n",
      "green\n",
      "purple\n"
     ]
    }
   ],
   "source": [
    "#activity 1\n",
    "colors = [\"red\", \"blue\", \"green\", \"purple\"]\n",
    "for i in colors:\n",
    "    print(i)"
   ]
  }
 ],
 "metadata": {
  "kernelspec": {
   "display_name": ".venv",
   "language": "python",
   "name": "python3"
  },
  "language_info": {
   "codemirror_mode": {
    "name": "ipython",
    "version": 3
   },
   "file_extension": ".py",
   "mimetype": "text/x-python",
   "name": "python",
   "nbconvert_exporter": "python",
   "pygments_lexer": "ipython3",
   "version": "3.12.10"
  }
 },
 "nbformat": 4,
 "nbformat_minor": 5
}
