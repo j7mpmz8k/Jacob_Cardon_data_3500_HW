{
 "cells": [
  {
   "cell_type": "code",
   "execution_count": null,
   "id": "2d7f8b90",
   "metadata": {},
   "outputs": [],
   "source": [
    "#activity 4\n",
    "random_list = []\n",
    "import random\n",
    "for i in range(0,10):\n",
    "    random_list.append(random.randint(0,100))\n",
    "print(\"list of 10 random numbers:\\n\"+str(random_list), \"\\n\")\n",
    " \n",
    "for index in range(len(random_list)):\n",
    "    if random_list[index]%2 == 0 and random_list[index-1]%2 == 0:\n",
    "        print(random_list[index], \"&\", random_list[index-1], \"are even!\")"
   ]
  },
  {
   "cell_type": "code",
   "execution_count": null,
   "id": "e437452e",
   "metadata": {},
   "outputs": [],
   "source": [
    "#activity 3\n",
    "random_list = []\n",
    "import random\n",
    "for i in range(11):\n",
    "    random_list.append(random.randint(0,10))\n",
    "print(random_list)"
   ]
  },
  {
   "cell_type": "code",
   "execution_count": null,
   "id": "f25a2e8f",
   "metadata": {},
   "outputs": [],
   "source": [
    "#acitivity 2\n",
    "colors = [\"red\", \"blue\", \"green\", \"purple\"]\n",
    "for color in colors:\n",
    "    print(color)\n",
    "    for letter in color:\n",
    "        print(letter)"
   ]
  },
  {
   "cell_type": "code",
   "execution_count": null,
   "id": "15687596",
   "metadata": {},
   "outputs": [],
   "source": [
    "#activity 1\n",
    "colors = [\"red\", \"blue\", \"green\", \"purple\"]\n",
    "for i in colors:\n",
    "    print(i)"
   ]
  }
 ],
 "metadata": {
  "kernelspec": {
   "display_name": "Python 3",
   "language": "python",
   "name": "python3"
  },
  "language_info": {
   "codemirror_mode": {
    "name": "ipython",
    "version": 3
   },
   "file_extension": ".py",
   "mimetype": "text/x-python",
   "name": "python",
   "nbconvert_exporter": "python",
   "pygments_lexer": "ipython3",
   "version": "3.12.10"
  }
 },
 "nbformat": 4,
 "nbformat_minor": 5
}
