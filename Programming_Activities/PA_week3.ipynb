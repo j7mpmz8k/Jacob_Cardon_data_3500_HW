{
 "cells": [
  {
   "cell_type": "code",
   "execution_count": null,
   "id": "47d1aed0",
   "metadata": {},
   "outputs": [],
   "source": [
    "#activity 6\n",
    "def welcome_fctn(name, age, favorite_color):\n",
    "    welcome_message = \"Welcome \" + name + \" you are \" + str(age) + \" years old, and \" + favorite_color + \" is your favorite color.\"\n",
    "    return welcome_message\n",
    "print(welcome_fctn(\"JohnDoe\", 29, \"purple\"))"
   ]
  },
  {
   "cell_type": "code",
   "execution_count": null,
   "id": "93dc8fb5",
   "metadata": {},
   "outputs": [],
   "source": [
    "#activity 5\n",
    "def welcome_fctn(name):\n",
    "    welcome_message = \"Welcome\", name\n",
    "    return welcome_message\n",
    "print(\"JohnDoe\")"
   ]
  },
  {
   "cell_type": "code",
   "execution_count": null,
   "id": "82b6af1a",
   "metadata": {},
   "outputs": [],
   "source": [
    "#activity 4\n",
    "def welcome_fctn(name):\n",
    "    print(\"Welcome\", name)\n",
    "welcome_fctn(\"Jacob\")"
   ]
  },
  {
   "cell_type": "code",
   "execution_count": null,
   "id": "5d7e2ec3",
   "metadata": {},
   "outputs": [],
   "source": [
    "#additional challenge 3.1\n",
    "min_length = 8\n",
    "\n",
    "character_length = False\n",
    "has_lowercase = False\n",
    "has_uppercase = False\n",
    "has_digit = False\n",
    "strong_password = False\n",
    "\n",
    "\n",
    "while strong_password != True:\n",
    "    password = input(\"\\nPlease enter a new password: \")\n",
    "    for i in password:\n",
    "        if \"a\" <= i <= \"z\":\n",
    "            has_lowercase = True\n",
    "        if \"A\" <= i <= \"Z\":\n",
    "            has_uppercase = True\n",
    "        if \"0\" <= i <= \"9\":\n",
    "            has_digit = True\n",
    "    if len(password) >= min_length:\n",
    "        character_length = True\n",
    "\n",
    "    if has_lowercase and has_uppercase and has_digit and character_length:\n",
    "        print(\"\\nSuccess! Password is strong.\\n\")\n",
    "        strong_password = True\n",
    "    else:\n",
    "        print(\"\\nPassword is weak. Does not meet following criteria:\")\n",
    "        if not has_lowercase:\n",
    "            print(\"\\t-Needs lowercase character.\")\n",
    "        if not has_uppercase:\n",
    "            print(\"\\t-Needs an uppercase character.\")\n",
    "        if not has_digit:\n",
    "            print(\"\\t-Needs at least one number ie. 0-9\")\n",
    "        if not character_length:\n",
    "            print(\"\\t-Character length must be at least\", min_length, \"characters.\")\n",
    "        print(\"Please try again.\") \n"
   ]
  },
  {
   "cell_type": "code",
   "execution_count": null,
   "id": "d89317db",
   "metadata": {},
   "outputs": [],
   "source": [
    "#activity 3\n",
    "\n",
    "#asks usr for child's age and weight\n",
    "age = eval(input(\"Enter your child's age: \"))\n",
    "weight = eval(input(\"Enter your child's weight: \"))\n",
    "\n",
    "#boolean values set up for age & weight criteria\n",
    "criteria1 = age>=12\n",
    "criteria2 = age>=11 and weight>90\n",
    "criteria3 = age<11 and weight>100\n",
    "\n",
    "#result message for child sitting in front seat\n",
    "if criteria1 or criteria2 or criteria3:\n",
    "    print(\"Your child can sit in the front seat!\")\n",
    "else:\n",
    "    print(\"Sorry, your child can NOT sit in the front seat.\")"
   ]
  },
  {
   "cell_type": "code",
   "execution_count": null,
   "id": "6f9d1807",
   "metadata": {},
   "outputs": [],
   "source": [
    "#additional challenge 1.2\n",
    "num = int(input(\"Input a number: \"))#asks usr for num to find multiples 1-10\n",
    "for i in range(1, 11):\n",
    "    print(num, 'x', i, '=', num * i)#prints calculations of multiples"
   ]
  },
  {
   "cell_type": "code",
   "execution_count": null,
   "id": "36b6ec6c",
   "metadata": {},
   "outputs": [],
   "source": [
    "#additional challenge 1.1\n",
    "starting_balance = float(200)\n",
    "deposit = float(0)\n",
    "withdraw = float(0)\n",
    "current_balance = (starting_balance+deposit-withdraw)\n",
    "atm_status = -1#menu option initialization\n",
    "\n",
    "while atm_status != 4:#sentinal to quit\n",
    "    print(\"Welcome to the python ATM. What would you like to do?\")\n",
    "    print(\"\\t1 check balance\")\n",
    "    print(\"\\t2 deposit money\")\n",
    "    print(\"\\t3 withdraw money\")\n",
    "    print(\"\\t4 quit\")\n",
    "    atm_status = int(input(\"Enter the number for your selection: \"))#asks usr what they want to do\n",
    "    if atm_status != 1 or 2 or 3 or 4:#error message\n",
    "        print(\"\\nERROR! Please enter 1, 2, 3, or 4\\n\")\n",
    "    elif atm_status == 1:\n",
    "        current_balance = (starting_balance+deposit-withdraw)#re-calculates balance\n",
    "        print(\"\\nYour current balance is:\", \"$\"+str(current_balance), \"\\n\")#displays current balance\n",
    "    elif atm_status == 2:\n",
    "        deposit += float(input(\"Please enter how much $$ you want to deposit: \"))#updates deposit ledger\n",
    "        print(\"\\nDeposit success!\\n\")\n",
    "    elif atm_status == 3:\n",
    "        withdraw += float(input(\"Please enter how much $$ you want to withdraw: \"))#updates withdraw ledger\n",
    "        print(\"\\nWithdraw success!\\n\")\n",
    "\n",
    "print(\"\\nThank you for using the Python ATM!\\n\")#exit message\n"
   ]
  },
  {
   "cell_type": "code",
   "execution_count": null,
   "id": "3d023123",
   "metadata": {},
   "outputs": [],
   "source": [
    "#activity 2\n",
    "denomitator = range(2,1001,2)#all even numbers 2-1000\n",
    "total = 0\n",
    "for i in denomitator:\n",
    "    total += 1/i#running total of all fractions ie.1/2 + 1/4 + ... 1/1000\n",
    "    if i != 2:#formatting\n",
    "        print(\"+\", str(1)+\"/\"+str(i))\n",
    "    else:\n",
    "        print(\" \", str(1)+\"/\"+str(i))\n",
    "print(\"=\", total)"
   ]
  },
  {
   "cell_type": "code",
   "execution_count": null,
   "id": "6416f8fc",
   "metadata": {},
   "outputs": [],
   "source": [
    "#activity 1\n",
    "user_number = int(input(\"please enter a 3 digit number: \"))#number to check if is a plindrome\n",
    "\n",
    "first_number = (user_number // 100)#checks first number\n",
    "last_number = (user_number % 10)#checks last number\n",
    "\n",
    "if first_number == last_number:#compares first and last number together\n",
    "    print(\"palindrome!!!!\")\n",
    "else:\n",
    "    print(\"not a palindrome!\")"
   ]
  }
 ],
 "metadata": {
  "kernelspec": {
   "display_name": "Python 3",
   "language": "python",
   "name": "python3"
  },
  "language_info": {
   "codemirror_mode": {
    "name": "ipython",
    "version": 3
   },
   "file_extension": ".py",
   "mimetype": "text/x-python",
   "name": "python",
   "nbconvert_exporter": "python",
   "pygments_lexer": "ipython3",
   "version": "3.12.10"
  }
 },
 "nbformat": 4,
 "nbformat_minor": 5
}
